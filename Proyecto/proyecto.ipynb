{
 "cells": [
  {
   "cell_type": "code",
   "execution_count": 1,
   "metadata": {
    "collapsed": true
   },
   "outputs": [],
   "source": [
    "#Importo librerías necesarias\n",
    "import numpy as np\n",
    "from numpy.linalg import norm\n",
    "import matplotlib.pyplot as plt\n",
    "import matplotlib.cm as cm\n",
    "%matplotlib inline\n",
    "import os\n",
    "import visual as v"
   ]
  },
  {
   "cell_type": "markdown",
   "metadata": {},
   "source": [
    "#Cuestiones previas:\n",
    "###1. La forma de guardar la información de las masas es la siguiente:\n",
    "+ Cada una tiene tres componentes: la masa, un vector $r$ (que contiene posición en $\\hat{\\textbf{i}}$, $\\hat{\\textbf{j}}$ y $\\hat{\\textbf{k}}$) y un vector $v$ (que contiene velocidad en $\\hat{\\textbf{i}}$, $\\hat{\\textbf{j}}$ y $\\hat{\\textbf{k}}$).\n",
    "+ El array InfoInicial contiene la información de **todas** las masas en cuestión. Cada componente es la información de una masa. Cada una de estas componentes a su vez es otro vector con las componentes antes descritas. El orden de la información contenida en este array es: [$M_1, M_2, \\dots , M_n$]. Donde cada $m_i$ es un array de la forma [$m_i, r_i, v_i$].\n",
    "+ Las masas se encuentran expresadas en términos de masas de Júpiter ($1.89813 \\times 10^{27} kg$). Por lo tanto la constante $G$ utilizada cambia de esta manera: $G_{utilizada} = G \\times 1.89813 \\times 10^{27}$. Así entonces $G_{utilizada} = 1.26678159192 \\times 10^{17} \\frac{N m^2}{Kg^2}$.\n",
    "\n",
    "###2. Utilizamos la siguiente fórmula para definir la interacción gravitacional:\n",
    "\n",
    "$$\\\\ m_i \\frac{d^2 r}{dt^2} = -G \\sum_{i \\neq j} \\frac{m_i m_j (r_i - r_j)}{|r_{i} - r_{j}|^3}\\\\$$\n",
    "$$i = 1, \\dots , N$$\n",
    "\n",
    "###3. Utilizamos la siguiente fórmula para definir la energía potencial gravitatoria:\n",
    "\n",
    "$$\\\\ U_G(r) = -G \\sum_{i \\neq j} \\frac{m_i m_j}{|r_{i} - r_{j}|}\\\\$$\n",
    "$$i = 1, \\dots , N$$\n",
    "\n",
    "###4. Utilizamos la siguiente fórmula para definir la energía cinética:\n",
    "\n",
    "$$\\\\ K(v) = \\sum_i \\frac{m_i v_i^2}{2}$$\n",
    "\n",
    "###5. Utilizamos la siguiente fórmula para definir la energía total:\n",
    "\n",
    "$$\\\\ E = U + K$$\n",
    "\n",
    "###6. Utilizamos el método de Runge-Kutta de orden 4 para resolver las ecuaciones diferenciales de movimiento. Recordando que este se basa en que:\n",
    "\n",
    "$$\\frac{d}{dt} Y(t) = f(Y)$$\n",
    "\n",
    "###7. Todo lo aquí hecho se basa en la información tomada de las fuentes: [1](http://www14.in.tum.de/konferenzen/Jass05/courses/2/Lapshin/Lapshin_paper.pdf), [2](http://radio.astro.gla.ac.uk/a1dynamics/pw/code/simple-3-body.py), [3](https://github.com/ComputoCienciasUniandes/MetodosComputacionales/blob/master/slides/2015-V/10-ODE.ipynb), [4](https://es.wikipedia.org/wiki/Energ%C3%ADa_gravitatoria), [5](http://physics.nist.gov/cgi-bin/cuu/Value?bg), [6](https://github.com/OpenExoplanetCatalogue/open_exoplanet_catalogue), [7](http://www.openexoplanetcatalogue.com/planet/Gliese%20667%20C%20h/).\n",
    "\n",
    "###8. A conitnuación se definen las funciones a utilizar:"
   ]
  },
  {
   "cell_type": "code",
   "execution_count": 2,
   "metadata": {
    "collapsed": true
   },
   "outputs": [],
   "source": [
    "G = 1#1.26678159192e17"
   ]
  },
  {
   "cell_type": "code",
   "execution_count": 3,
   "metadata": {
    "collapsed": true
   },
   "outputs": [],
   "source": [
    "#Basados en el inciso (2) y la fuente 1 definimos la función de m*a. Que para el método Runge-Kutta sería la velocidad.\n",
    "def f(Y,M):\n",
    "    global G\n",
    "    info = [] #Toda la información se guarda en esta variable local, que al final del método es retornada.\n",
    "    for i in range(0,len(Y),2): #Este ciclo recorre cada una de las masas.\n",
    "        v = 0\n",
    "        #Este ciclo encuentra la atracción que siente cada una de las masas efectuada por las demás.\n",
    "        for j in range(0,len(Y),2):\n",
    "            if (i != j): #Utilizamos esta condición para evitar calcular la fuerza que una masa ejerce sobre sí misma.\n",
    "                v -= G*(M[int(j/2)])*((Y[i] - Y[j]) / norm(Y[i] - Y[j])**3)\n",
    "        info.extend((Y[i+1],v))\n",
    "    informacion = np.array(info)\n",
    "    return(informacion)"
   ]
  },
  {
   "cell_type": "code",
   "execution_count": 4,
   "metadata": {
    "collapsed": true
   },
   "outputs": [],
   "source": [
    "#Basados en las fuentes 2 y 3 implementamos el método de Runge-Kutta de orden 4.\n",
    "def runge_kutta_orden4(dt,Y,M):\n",
    "    #Resolvemos las ecuaciones de movimiento con Runge-Kutta orden 4.\n",
    "    K1 = f(Y,M)\n",
    "    K2 = f(Y + dt*(1./2.*K1),M)\n",
    "    K3 = f(Y + dt*(1./2.*K2),M)\n",
    "    K4 = f(Y + dt*K3,M)\n",
    "    #Asignamos los nuevos valores encontrados al vector inicial.\n",
    "    Y+= dt * (1/6.*K1 + 1/3. * K2 + 1/3.*K3 + 1/6.*K4)\n",
    "    return(Y)"
   ]
  },
  {
   "cell_type": "code",
   "execution_count": 5,
   "metadata": {
    "collapsed": true
   },
   "outputs": [],
   "source": [
    "#Calcula la velocidad del centro de masa del sistema.\n",
    "def vcentre(Y,M):\n",
    "    vcentre = 0\n",
    "    mass = 0\n",
    "    for i in range(0,len(Y),2):\n",
    "        vcentre += Y[i+1]*M[int(i/2)]\n",
    "        mass += M[int(i/2)]\n",
    "    return (vcentre/mass)"
   ]
  },
  {
   "cell_type": "code",
   "execution_count": 6,
   "metadata": {
    "collapsed": false
   },
   "outputs": [],
   "source": [
    "#Definimos una función que llama varias veces el método de Runge-Kutta para efectuar la simulación.\n",
    "def simulacion(M,Y,numIter=100,tmax=1,*args):\n",
    "    #dt = tmax/numIter #Se cuadra la escala de tiempo para que 1 periodo se ajuste al dt del método.\n",
    "    dt = 0.1\n",
    "    history=np.array([Y]) #Este array contendrá la información luego de cada iteración con el fin de poder graficar.\n",
    "    for iters in range(numIter):#Se ejecuta el método Runge-Kutta  durante la cantidad de iteraciones propuestas\n",
    "        history=np.append(history,[runge_kutta_orden4(dt,history[-1],M)],axis=0)\n",
    "    return (history)"
   ]
  },
  {
   "cell_type": "code",
   "execution_count": 35,
   "metadata": {
    "collapsed": false
   },
   "outputs": [],
   "source": [
    "#Definimos una función que grafica basados en los datos arrojados por la simulación\n",
    "#Se pasa por parámetro la historia de la simulación y la trayectoria de la masa que se quiere graficar\n",
    "#Si no se pasa ninguna masa por parámetro (o se iguala a 0) muestra la trayectoria de todas las masas\n",
    "def graficador(history,masa=0,**args):\n",
    "    colors = cm.rainbow(np.linspace(0, 1, len(history[0])/2))\n",
    "    if (masa == 0):\n",
    "        plt.figure(figsize=(14,4))\n",
    "        plt.axis('equal')\n",
    "        for i in range(0,(int(len(history[0]))),2):\n",
    "            plt.scatter(history[:,i][:,0],history[:,i][:,1],s=1)\n",
    "            plt.scatter(history[:,i][:,0][0],history[:,i][:,1][0],s=50,label=\"Inicio\",color=colors[int(i/2)])\n",
    "        plt.legend(loc=0)\n",
    "        plt.xlabel(u'Posición $x$')\n",
    "        plt.ylabel(u'Posición $y$')\n",
    "        plt.title(u'Trayectorias de las masas',fontsize=15)\n",
    "        plt.show()\n",
    "    else:\n",
    "        plt.figure(figsize=(14,4))\n",
    "        plt.axis('equal')\n",
    "        plt.scatter(history[:,int((masa-1)*2)][:,0],history[:,int((masa-1)*2)][:,1],s=1)\n",
    "        plt.scatter(history[:,int((masa-1)*2)][:,0][0],history[:,int((masa-1)*2)][:,1][0],s=50,label=\"Inicio\",color='blue')\n",
    "        plt.scatter(history[:,int((masa-1)*2)][:,0][-1],history[:,int((masa-1)*2)][:,1][-1],s=50,label=\"Fin\",color='red')\n",
    "        plt.legend(loc=0)\n",
    "        plt.xlabel(u'Posición $x$')\n",
    "        plt.ylabel(u'Posición $y$')\n",
    "        plt.title(u'Trayectoria de $m_{%d}$'%masa,fontsize=15)\n",
    "        plt.show()"
   ]
  },
  {
   "cell_type": "code",
   "execution_count": 36,
   "metadata": {
    "collapsed": true
   },
   "outputs": [],
   "source": [
    "#Animador\n",
    "def animador(history):\n",
    "    colors = cm.rainbow(np.linspace(0, 1, len(history[0])/2))\n",
    "    for j in range(0,len(history),20):#Recorre toda la historia para graficar cada paso\n",
    "        plt.figure(figsize=(9,7))\n",
    "        plt.axis('equal')\n",
    "        #plt.plot(history[:,0][:,0],history[:,0][:,1],'--',color='grey')\n",
    "        #xlim = plt.gca().get_xlim()\n",
    "        #ylim = plt.gca().get_ylim()\n",
    "        plt.xlim(-20,20)#xlim)\n",
    "        plt.ylim(-15,20)#ylim)\n",
    "        for i in range(0,(int(len(history[0]))),2):#Grafica todas las masas por cada paso\n",
    "            plt.scatter(history[:,i][:,0][j],history[:,i][:,1][j],s=50,color=colors[int(i/2)])\n",
    "        plt.grid()\n",
    "        plt.xlabel(u'Posición $x$')\n",
    "        plt.ylabel(u'Posición $y$')\n",
    "        plt.title('Gravitational Choreography',fontsize=15)\n",
    "        plt.savefig('anim%d.png'%j)#Guarda las gráficas realizadas\n",
    "        plt.cla()\n",
    "        plt.close()\n",
    "    os.system(\"convert -delay 12 -loop 0 $(ls anim*.png | sort -V) gravchorN%d.gif\"%(int(len(history[0])/2)))\n",
    "    os.system(\"rm anim*.png\")#Toma las gráficas, las convierte en un .gif y las elimina"
   ]
  },
  {
   "cell_type": "code",
   "execution_count": 37,
   "metadata": {
    "collapsed": false
   },
   "outputs": [],
   "source": [
    "#m1 = np.array([10])\n",
    "m1 = 10\n",
    "r1 = np.array([10,0,0])\n",
    "v1 = np.array([0,1,0])\n",
    "#M1 = np.array([m1,r1,v1])\n",
    "\n",
    "#m2 = np.array([10])\n",
    "m2 = 10\n",
    "r2 = np.array([-10,0,3])\n",
    "v2 = np.array([-0.3,-1,0.5])\n",
    "#M2 = np.array([m2,r2,v2])\n",
    "\n",
    "#m3 = np.array([10])\n",
    "m3 = 10\n",
    "r3 = np.array([0,0,0])\n",
    "v3 = np.array([0,0.1,0.1])\n",
    "#M3 = np.array([m3,r3,v3])\n",
    "\n",
    "InfoInicial = np.array([r1,v1,r2,v3,r3,v3])\n",
    "masas = np.array([m1,m2,m3])"
   ]
  },
  {
   "cell_type": "code",
   "execution_count": 38,
   "metadata": {
    "collapsed": false
   },
   "outputs": [
    {
     "data": {
      "text/plain": [
       "array([[ 10.        ,   0.        ,   0.        ],\n",
       "       [  0.        ,   0.6       ,  -0.06666667],\n",
       "       [-10.        ,   0.        ,   3.        ],\n",
       "       [  0.        ,  -0.3       ,   0.03333333],\n",
       "       [  0.        ,   0.        ,   0.        ],\n",
       "       [  0.        ,  -0.3       ,   0.03333333]])"
      ]
     },
     "execution_count": 38,
     "metadata": {},
     "output_type": "execute_result"
    }
   ],
   "source": [
    "InfoInicial[1::2] -= vcentre(InfoInicial,masas)\n",
    "InfoInicial"
   ]
  },
  {
   "cell_type": "code",
   "execution_count": 39,
   "metadata": {
    "collapsed": false
   },
   "outputs": [
    {
     "data": {
      "text/plain": [
       "array([  0.00000000e+00,  -2.96059473e-17,   3.70074342e-18])"
      ]
     },
     "execution_count": 39,
     "metadata": {},
     "output_type": "execute_result"
    }
   ],
   "source": [
    "vcentre(InfoInicial,masas)"
   ]
  },
  {
   "cell_type": "code",
   "execution_count": 40,
   "metadata": {
    "collapsed": false
   },
   "outputs": [
    {
     "data": {
      "text/plain": [
       "array([[ 10.        ,   0.        ,   0.        ],\n",
       "       [  0.        ,   0.6       ,  -0.06666667],\n",
       "       [-10.        ,   0.        ,   3.        ],\n",
       "       [  0.        ,  -0.3       ,   0.03333333],\n",
       "       [  0.        ,   0.        ,   0.        ],\n",
       "       [  0.        ,  -0.3       ,   0.03333333]])"
      ]
     },
     "execution_count": 40,
     "metadata": {},
     "output_type": "execute_result"
    }
   ],
   "source": [
    "InfoInicial[1::2] -= vcentre(InfoInicial,masas)\n",
    "InfoInicial"
   ]
  },
  {
   "cell_type": "code",
   "execution_count": 41,
   "metadata": {
    "collapsed": false
   },
   "outputs": [
    {
     "data": {
      "text/plain": [
       "array([ 0.,  0.,  0.])"
      ]
     },
     "execution_count": 41,
     "metadata": {},
     "output_type": "execute_result"
    }
   ],
   "source": [
    "vcentre(InfoInicial,masas)"
   ]
  },
  {
   "cell_type": "code",
   "execution_count": 42,
   "metadata": {
    "collapsed": false
   },
   "outputs": [
    {
     "data": {
      "text/plain": [
       "array([[ 10.        ,   0.        ,   0.        ],\n",
       "       [  0.        ,   0.6       ,  -0.06666667],\n",
       "       [-10.        ,   0.        ,   3.        ],\n",
       "       [  0.        ,  -0.3       ,   0.03333333],\n",
       "       [  0.        ,   0.        ,   0.        ],\n",
       "       [  0.        ,  -0.3       ,   0.03333333]])"
      ]
     },
     "execution_count": 42,
     "metadata": {},
     "output_type": "execute_result"
    }
   ],
   "source": [
    "InfoInicial"
   ]
  },
  {
   "cell_type": "code",
   "execution_count": 43,
   "metadata": {
    "collapsed": false,
    "scrolled": true
   },
   "outputs": [
    {
     "data": {
      "image/png": "[encoded data removed]",
      "text/plain": [
       "<matplotlib.figure.Figure at 0x7f334c743850>"
      ]
     },
     "metadata": {},
     "output_type": "display_data"
    }
   ],
   "source": [
    "#Corremos la simulación para media unidad de tiempo y graficamos resultados.\n",
    "hist=simulacion(Y=InfoInicial,M=masas,numIter=3400)\n",
    "#graficador(hist,masa=1)\n",
    "#graficador(hist,masa=2)\n",
    "#graficador(hist,masa=3)\n",
    "graficador(hist)"
   ]
  },
  {
   "cell_type": "code",
   "execution_count": 160,
   "metadata": {
    "collapsed": false
   },
   "outputs": [],
   "source": [
    "animador(hist)"
   ]
  },
  {
   "cell_type": "markdown",
   "metadata": {},
   "source": [
    "###(b) Las trayectorias son periódicas, calcule el periodo con por lo menos tres cifras significativas."
   ]
  },
  {
   "cell_type": "code",
   "execution_count": 11,
   "metadata": {
    "collapsed": false
   },
   "outputs": [
    {
     "name": "stdout",
     "output_type": "stream",
     "text": [
      "Iteración número 1\n",
      "Iteración número 2\n",
      "Terminé y lo encontré :)\n",
      "El periodo de las trayectorias es de aproximadamente 0.79480 unidades de tiempo.\n"
     ]
    }
   ],
   "source": [
    "#Utilizamos la función previamente definida para encontrar el periodo.\n",
    "T = tfinder(Y=YN3,iteraciones=10)\n",
    "print('El periodo de las trayectorias es de aproximadamente %.5f unidades de tiempo.'%T)"
   ]
  },
  {
   "cell_type": "markdown",
   "metadata": {
    "collapsed": false
   },
   "source": [
    "###(c) Haga una animación de las trayectorias de los tres cuerpos."
   ]
  },
  {
   "cell_type": "code",
   "execution_count": 12,
   "metadata": {
    "collapsed": false
   },
   "outputs": [],
   "source": [
    "#Corremos la simulación nuevamente, pero esta vez para el periodo encontrado. Luego utilizamos la función que crea\n",
    "#la animación previamente definida.\n",
    "hist=simulacion(numIter=200,Y=YN3,tmax=T)\n",
    "animador(hist)"
   ]
  },
  {
   "cell_type": "markdown",
   "metadata": {},
   "source": [
    "###La animación se puede encontrar en el siguiente [enlace](https://raw.githubusercontent.com/diegolramirez/MC/master/Tareas/HW5/gravchorN3.gif)."
   ]
  },
  {
   "cell_type": "markdown",
   "metadata": {},
   "source": [
    "###(b) Con el valor de $a$ encontrado haga una gráfica con la energía cinética, la energía potencial y la energía total del sistema en función del tiempo."
   ]
  },
  {
   "cell_type": "code",
   "execution_count": 19,
   "metadata": {
    "collapsed": true
   },
   "outputs": [],
   "source": [
    "#Basados en el inciso (3) y la fuente 1 definimos la función de energía potencial.\n",
    "def U(Y):\n",
    "    info = [] #Toda la información se guarda en esta variable local, que al final del método es retornada.\n",
    "    for i in range(0,len(Y),2): #Este ciclo recorre cada una de las masas.\n",
    "        u = 0\n",
    "        #Este ciclo encuentra la energía potencial que siente cada una de las masas efectuada en relación a las demás.\n",
    "        for j in range(0,len(Y),2):\n",
    "            if (j > i): #Utilizamos esta condición para evitar calcular doble las fuerzas potenciales.\n",
    "                u -= 1./norm(Y[i] - Y[j])\n",
    "        info.append(u)\n",
    "    informacion = np.array(info).sum()\n",
    "    return(informacion)"
   ]
  },
  {
   "cell_type": "code",
   "execution_count": 20,
   "metadata": {
    "collapsed": true
   },
   "outputs": [],
   "source": [
    "#Basados en el inciso (4) y la fuente 1 definimos la función energía cinética.\n",
    "def K(Y):\n",
    "    info = [] #Toda la información se guarda en esta variable local, que al final del método es retornada.\n",
    "    for i in range(1,len(Y),2): #Este ciclo recorre cada una de las masas.\n",
    "        k = (norm(Y[i])**2)/2.\n",
    "        info.append(k)\n",
    "    informacion = np.array(info).sum()\n",
    "    return(informacion)"
   ]
  },
  {
   "cell_type": "code",
   "execution_count": 21,
   "metadata": {
    "collapsed": true
   },
   "outputs": [],
   "source": [
    "#Definimos una función que recorre la historia de la simulación y encuentra y encuentra U, K y E.\n",
    "def energias(history):\n",
    "    energiaU=np.array([])#Creamos arrays que contendran la info de U y K.\n",
    "    energiaK=np.array([])\n",
    "    for i in history:#Recorremos la historia y hallamos U y K en cada step.\n",
    "        energiaU=np.append(energiaU,[U(i)],axis=0)\n",
    "        energiaK=np.append(energiaK,[K(i)],axis=0)\n",
    "    total = energiaU + energiaK #Sumamos energías U + K para hallar E.\n",
    "    return (np.array([energiaU,energiaK,total]))"
   ]
  },
  {
   "cell_type": "code",
   "execution_count": 22,
   "metadata": {
    "collapsed": false
   },
   "outputs": [],
   "source": [
    "#Corremos la función que encuentra las energías.\n",
    "eU,eK,eT = energias(hist)\n",
    "#Definimos un linspace que representa el tiempo.\n",
    "t = np.linspace(0,1,len(hist))"
   ]
  },
  {
   "cell_type": "code",
   "execution_count": 23,
   "metadata": {
    "collapsed": false
   },
   "outputs": [
    {
     "data": {
      "text/plain": [
       "<matplotlib.legend.Legend at 0x7f43c0339f28>"
      ]
     },
     "execution_count": 23,
     "metadata": {},
     "output_type": "execute_result"
    },
    {
     "data": {
      "image/png": "[encoded data removed]",
      "text/plain": [
       "<matplotlib.figure.Figure at 0x7f43c046ebe0>"
      ]
     },
     "metadata": {},
     "output_type": "display_data"
    }
   ],
   "source": [
    "#Hacemos la gráfica de U,K,E.\n",
    "plt.figure(figsize=(12,5))\n",
    "plt.plot(t,eU,label='Energía potencial U',color='blue')\n",
    "plt.plot(t,eK,label='Energía cinética K',color='green')\n",
    "plt.plot(t,eT,label='Energía total K + U',color='red')\n",
    "plt.xlabel('t')\n",
    "plt.ylabel('E')\n",
    "plt.legend(loc=0)"
   ]
  },
  {
   "cell_type": "markdown",
   "metadata": {},
   "source": [
    "###(c) Haga una animación de las trayectorias de los cuatro cuerpos."
   ]
  },
  {
   "cell_type": "code",
   "execution_count": 24,
   "metadata": {
    "collapsed": false
   },
   "outputs": [],
   "source": [
    "#Hacemos la animación con la función previamente definida.\n",
    "animador(hist)"
   ]
  },
  {
   "cell_type": "markdown",
   "metadata": {},
   "source": [
    "###La animación se puede encontrar en el siguiente [enlace](https://raw.githubusercontent.com/diegolramirez/MC/master/Tareas/HW5/gravchorN4.gif)."
   ]
  },
  {
   "cell_type": "code",
   "execution_count": 13,
   "metadata": {
    "collapsed": false
   },
   "outputs": [
    {
     "data": {
      "text/plain": [
       "3.4641016151377544"
      ]
     },
     "execution_count": 13,
     "metadata": {},
     "output_type": "execute_result"
    }
   ],
   "source": [
    "norm([2,2,2])"
   ]
  },
  {
   "cell_type": "code",
   "execution_count": 12,
   "metadata": {
    "collapsed": false
   },
   "outputs": [
    {
     "data": {
      "text/plain": [
       "3.4641016151377544"
      ]
     },
     "execution_count": 12,
     "metadata": {},
     "output_type": "execute_result"
    }
   ],
   "source": [
    "np.sqrt(12)"
   ]
  },
  {
   "cell_type": "code",
   "execution_count": null,
   "metadata": {
    "collapsed": true
   },
   "outputs": [],
   "source": [
    "#Basados en el inciso (2) y la fuente 1 definimos la función de m*a. Que para el método Runge-Kutta sería la velocidad.\n",
    "def f(Y):\n",
    "    global G\n",
    "    info = [] #Toda la información se guarda en esta variable local, que al final del método es retornada.\n",
    "    for i in range(len(Y)): #Este ciclo recorre cada una de las masas.\n",
    "        v = 0\n",
    "        #Este ciclo encuentra la atracción que siente cada una de las masas efectuada por las demás.\n",
    "        for j in range(len(Y)):\n",
    "            if (i != j): #Utilizamos esta condición para evitar calcular la fuerza que una masa ejerce sobre sí misma.\n",
    "                v -= G*(Y[i][0]*Y[j][0])*((Y[i][1] - Y[j][1]) / norm(Y[i][1] - Y[j][1])**3)\n",
    "        info.extend((Y[i+1],v))\n",
    "    informacion = np.array(info)\n",
    "    return(informacion)"
   ]
  },
  {
   "cell_type": "code",
   "execution_count": 16,
   "metadata": {
    "collapsed": true
   },
   "outputs": [],
   "source": [
    "a = np.array([1,2])\n",
    "b = np.array([3,4,5])"
   ]
  },
  {
   "cell_type": "code",
   "execution_count": 20,
   "metadata": {
    "collapsed": true
   },
   "outputs": [],
   "source": [
    "c = np.array([a,b,1])"
   ]
  },
  {
   "cell_type": "code",
   "execution_count": 21,
   "metadata": {
    "collapsed": false
   },
   "outputs": [
    {
     "data": {
      "text/plain": [
       "array([array([1, 2]), array([3, 4, 5]), 1], dtype=object)"
      ]
     },
     "execution_count": 21,
     "metadata": {},
     "output_type": "execute_result"
    }
   ],
   "source": [
    "c"
   ]
  },
  {
   "cell_type": "code",
   "execution_count": 31,
   "metadata": {
    "collapsed": false
   },
   "outputs": [],
   "source": [
    "m1 = np.array([10])\n",
    "r1 = np.array([10,0,0])\n",
    "v1 = np.array([0,1,0])\n"
   ]
  },
  {
   "cell_type": "code",
   "execution_count": 32,
   "metadata": {
    "collapsed": false
   },
   "outputs": [],
   "source": [
    "a = np.array([m1,r1,v1])"
   ]
  },
  {
   "cell_type": "code",
   "execution_count": 33,
   "metadata": {
    "collapsed": false
   },
   "outputs": [
    {
     "data": {
      "text/plain": [
       "array([array([10]), array([10,  0,  0]), array([0, 1, 0])], dtype=object)"
      ]
     },
     "execution_count": 33,
     "metadata": {},
     "output_type": "execute_result"
    }
   ],
   "source": [
    "a"
   ]
  },
  {
   "cell_type": "code",
   "execution_count": 21,
   "metadata": {
    "collapsed": false
   },
   "outputs": [
    {
     "data": {
      "text/plain": [
       "array([10,  0,  0])"
      ]
     },
     "execution_count": 21,
     "metadata": {},
     "output_type": "execute_result"
    }
   ],
   "source": [
    "r1"
   ]
  },
  {
   "cell_type": "code",
   "execution_count": 22,
   "metadata": {
    "collapsed": false
   },
   "outputs": [
    {
     "data": {
      "text/plain": [
       "array([0, 1, 0])"
      ]
     },
     "execution_count": 22,
     "metadata": {},
     "output_type": "execute_result"
    }
   ],
   "source": [
    "v1"
   ]
  },
  {
   "cell_type": "code",
   "execution_count": 29,
   "metadata": {
    "collapsed": false
   },
   "outputs": [],
   "source": [
    "x = np.array([v1,r1,1])"
   ]
  },
  {
   "cell_type": "code",
   "execution_count": 30,
   "metadata": {
    "collapsed": false
   },
   "outputs": [
    {
     "data": {
      "text/plain": [
       "array([array([0, 1, 0]), array([10,  0,  0]), 1], dtype=object)"
      ]
     },
     "execution_count": 30,
     "metadata": {},
     "output_type": "execute_result"
    }
   ],
   "source": [
    "a = np.array([m1,r1,v1])"
   ]
  },
  {
   "cell_type": "code",
   "execution_count": 48,
   "metadata": {
    "collapsed": false
   },
   "outputs": [
    {
     "data": {
      "text/plain": [
       "2.824380763307379e-07"
      ]
     },
     "execution_count": 48,
     "metadata": {},
     "output_type": "execute_result"
    }
   ],
   "source": [
    "6.67384e-11*1.898e27*(1./149597871000)**3*(86400**2)"
   ]
  },
  {
   "cell_type": "code",
   "execution_count": 52,
   "metadata": {
    "collapsed": false
   },
   "outputs": [
    {
     "data": {
      "text/plain": [
       "73000"
      ]
     },
     "execution_count": 52,
     "metadata": {},
     "output_type": "execute_result"
    }
   ],
   "source": [
    "200*365"
   ]
  },
  {
   "cell_type": "code",
   "execution_count": 54,
   "metadata": {
    "collapsed": false
   },
   "outputs": [
    {
     "data": {
      "text/plain": [
       "0.0005594617054337989"
      ]
     },
     "execution_count": 54,
     "metadata": {},
     "output_type": "execute_result"
    }
   ],
   "source": [
    "2*np.pi*6.5/(200*365)"
   ]
  },
  {
   "cell_type": "code",
   "execution_count": 55,
   "metadata": {
    "collapsed": false
   },
   "outputs": [
    {
     "data": {
      "text/plain": [
       "0.89399666360055785"
      ]
     },
     "execution_count": 55,
     "metadata": {},
     "output_type": "execute_result"
    }
   ],
   "source": [
    "np.sin(90)"
   ]
  },
  {
   "cell_type": "code",
   "execution_count": 56,
   "metadata": {
    "collapsed": false
   },
   "outputs": [
    {
     "data": {
      "text/plain": [
       "57.295779513082323"
      ]
     },
     "execution_count": 56,
     "metadata": {},
     "output_type": "execute_result"
    }
   ],
   "source": [
    "np.rad2deg(1)"
   ]
  },
  {
   "cell_type": "code",
   "execution_count": 57,
   "metadata": {
    "collapsed": false
   },
   "outputs": [
    {
     "data": {
      "text/plain": [
       "0.8414709848078965"
      ]
     },
     "execution_count": 57,
     "metadata": {},
     "output_type": "execute_result"
    }
   ],
   "source": [
    "np.sin(1)"
   ]
  },
  {
   "cell_type": "code",
   "execution_count": 58,
   "metadata": {
    "collapsed": false
   },
   "outputs": [
    {
     "data": {
      "text/plain": [
       "-0.98803162409286183"
      ]
     },
     "execution_count": 58,
     "metadata": {},
     "output_type": "execute_result"
    }
   ],
   "source": [
    "np.sin(30)"
   ]
  },
  {
   "cell_type": "code",
   "execution_count": 63,
   "metadata": {
    "collapsed": false
   },
   "outputs": [
    {
     "data": {
      "text/plain": [
       "153.20888862379562"
      ]
     },
     "execution_count": 63,
     "metadata": {},
     "output_type": "execute_result"
    }
   ],
   "source": [
    "200*np.sin(np.deg2rad(50))"
   ]
  },
  {
   "cell_type": "code",
   "execution_count": 64,
   "metadata": {
    "collapsed": false
   },
   "outputs": [
    {
     "data": {
      "text/plain": [
       "128.55752193730788"
      ]
     },
     "execution_count": 64,
     "metadata": {},
     "output_type": "execute_result"
    }
   ],
   "source": [
    "200*np.cos(np.deg2rad(50))"
   ]
  },
  {
   "cell_type": "code",
   "execution_count": 65,
   "metadata": {
    "collapsed": true
   },
   "outputs": [],
   "source": [
    "def velocidaddd(r,t):\n",
    "    return((2*np.pi*r)/t)"
   ]
  },
  {
   "cell_type": "code",
   "execution_count": 72,
   "metadata": {
    "collapsed": false
   },
   "outputs": [
    {
     "data": {
      "text/plain": [
       "0.013499030933393644"
      ]
     },
     "execution_count": 72,
     "metadata": {},
     "output_type": "execute_result"
    }
   ],
   "source": [
    "t=256\n",
    "r=0.55\n",
    "velocidaddd(r,t)"
   ]
  },
  {
   "cell_type": "code",
   "execution_count": null,
   "metadata": {
    "collapsed": true
   },
   "outputs": [],
   "source": []
  }
 ],
 "metadata": {
  "kernelspec": {
   "display_name": "Python 2",
   "language": "python",
   "name": "python2"
  },
  "language_info": {
   "codemirror_mode": {
    "name": "ipython",
    "version": 2
   },
   "file_extension": ".py",
   "mimetype": "text/x-python",
   "name": "python",
   "nbconvert_exporter": "python",
   "pygments_lexer": "ipython2",
   "version": "2.7.6"
  }
 },
 "nbformat": 4,
 "nbformat_minor": 0
}
