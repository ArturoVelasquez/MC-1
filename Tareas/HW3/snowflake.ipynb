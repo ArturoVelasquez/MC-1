{
 "cells": [
  {
   "cell_type": "code",
   "execution_count": 77,
   "metadata": {
    "collapsed": true
   },
   "outputs": [],
   "source": [
    "import turtle\n",
    "import numpy as np"
   ]
  },
  {
   "cell_type": "code",
   "execution_count": 123,
   "metadata": {
    "collapsed": false,
    "scrolled": true
   },
   "outputs": [],
   "source": [
    "def subavance(orden,lado):\n",
    "    turtle.forward(lado/(3**orden))\n",
    "    turtle.right(120/(2**orden))\n",
    "    turtle.forward(lado/(3**orden))\n",
    "    turtle.left(120)\n",
    "    turtle.forward(lado/(3**orden))\n",
    "    turtle.right(120/(2**orden))\n",
    "    turtle.forward(lado/(3**orden))\n",
    "\n",
    "def avance(orden,lado):\n",
    "    if (orden == 0):\n",
    "        turtle.forward(lado)\n",
    "        #turtle.left(120)\n",
    "        #turtle.forward(lado)\n",
    "        #turtle.left(120)\n",
    "        #turtle.forward(lado)\n",
    "    else:\n",
    "        avance(orden-1,lado/3)\n",
    "        turtle.right(60)\n",
    "        avance(orden-1,lado/3)\n",
    "        turtle.left(120)\n",
    "        avance(orden-1,lado/3)\n",
    "        turtle.right(60)\n",
    "        avance(orden-1,lado/3)"
   ]
  },
  {
   "cell_type": "code",
   "execution_count": 124,
   "metadata": {
    "collapsed": true
   },
   "outputs": [],
   "source": [
    "def koch(orden,lado):\n",
    "    turtle.setup(500,500)\n",
    "\n",
    "    turtle.down()\n",
    "    turtle.speed(10)\n",
    "    turtle.hideturtle()\n",
    "    \n",
    "    avance(orden,lado)\n",
    "\n",
    "    turtle.done()"
   ]
  },
  {
   "cell_type": "code",
   "execution_count": 127,
   "metadata": {
    "collapsed": false
   },
   "outputs": [],
   "source": [
    "koch(2,100)"
   ]
  },
  {
   "cell_type": "code",
   "execution_count": null,
   "metadata": {
    "collapsed": true
   },
   "outputs": [],
   "source": [
    "def subavance(orden,lado):\n",
    "    turtle.forward(lado/(3**orden))\n",
    "    turtle.right(120/(2**orden))\n",
    "    turtle.forward(lado/(3**orden))\n",
    "    turtle.left(120)\n",
    "    turtle.forward(lado/(3**orden))\n",
    "    turtle.right(120/(2**orden))\n",
    "    turtle.forward(lado/(3**orden))"
   ]
  },
  {
   "cell_type": "code",
   "execution_count": null,
   "metadata": {
    "collapsed": true
   },
   "outputs": [],
   "source": [
    "def koch(orden,lado):\n",
    "    turtle.setup(500,500)\n",
    "\n",
    "    turtle.down()\n",
    "    turtle.speed(10)\n",
    "    turtle.hideturtle()\n",
    "    \n",
    "    camino = \n",
    "\n",
    "    turtle.done()"
   ]
  },
  {
   "cell_type": "code",
   "execution_count": 80,
   "metadata": {
    "collapsed": true
   },
   "outputs": [],
   "source": [
    "a = np.linspace(1,10,10)"
   ]
  },
  {
   "cell_type": "code",
   "execution_count": 82,
   "metadata": {
    "collapsed": false
   },
   "outputs": [],
   "source": [
    "a[2] = 5"
   ]
  },
  {
   "cell_type": "code",
   "execution_count": 105,
   "metadata": {
    "collapsed": false
   },
   "outputs": [
    {
     "data": {
      "text/plain": [
       "9"
      ]
     },
     "execution_count": 105,
     "metadata": {},
     "output_type": "execute_result"
    }
   ],
   "source": [
    "a = [1,5,3,4,5,7,6,5,8]\n",
    "len(a)"
   ]
  },
  {
   "cell_type": "code",
   "execution_count": 106,
   "metadata": {
    "collapsed": false,
    "scrolled": true
   },
   "outputs": [
    {
     "name": "stdout",
     "output_type": "stream",
     "text": [
      "[1]\n",
      "[5, 3, 4, 5, 7, 6, 5, 8]\n",
      "[1, 999, 5, 3, 4, 5, 7, 6, 5, 8]\n",
      "hola\n",
      "[1, 999]\n",
      "[5, 3, 4, 5, 7, 6, 5, 8]\n",
      "[1, 999, 999, 5, 3, 4, 5, 7, 6, 5, 8]\n",
      "hola\n",
      "[1, 999, 999]\n",
      "[5, 3, 4, 5, 7, 6, 5, 8]\n",
      "[1, 999, 999, 999, 5, 3, 4, 5, 7, 6, 5, 8]\n",
      "hola\n",
      "[1, 999, 999, 999]\n",
      "[5, 3, 4, 5, 7, 6, 5, 8]\n",
      "[1, 999, 999, 999, 999, 5, 3, 4, 5, 7, 6, 5, 8]\n",
      "hola\n",
      "[1, 999, 999, 999, 999]\n",
      "[5, 3, 4, 5, 7, 6, 5, 8]\n",
      "[1, 999, 999, 999, 999, 999, 5, 3, 4, 5, 7, 6, 5, 8]\n",
      "hola\n",
      "[1, 999, 999, 999, 999, 999]\n",
      "[5, 3, 4, 5, 7, 6, 5, 8]\n",
      "[1, 999, 999, 999, 999, 999, 999, 5, 3, 4, 5, 7, 6, 5, 8]\n",
      "hola\n",
      "[1, 999, 999, 999, 999, 999, 999]\n",
      "[5, 3, 4, 5, 7, 6, 5, 8]\n",
      "[1, 999, 999, 999, 999, 999, 999, 999, 5, 3, 4, 5, 7, 6, 5, 8]\n",
      "hola\n",
      "[1, 999, 999, 999, 999, 999, 999, 999]\n",
      "[5, 3, 4, 5, 7, 6, 5, 8]\n",
      "[1, 999, 999, 999, 999, 999, 999, 999, 999, 5, 3, 4, 5, 7, 6, 5, 8]\n",
      "hola\n"
     ]
    }
   ],
   "source": [
    "for i in range(len(a)):\n",
    "    if (a[i]==5):\n",
    "        print(a[:i])\n",
    "        print(a[i:])\n",
    "        a=a[:i]+[999]+a[i:]\n",
    "        print(a)\n",
    "        print(\"hola\")"
   ]
  },
  {
   "cell_type": "code",
   "execution_count": 100,
   "metadata": {
    "collapsed": false
   },
   "outputs": [
    {
     "data": {
      "text/plain": [
       "[5, 8, 999, 1, 5, 3, 4, 5, 7, 6]"
      ]
     },
     "execution_count": 100,
     "metadata": {},
     "output_type": "execute_result"
    }
   ],
   "source": [
    "b"
   ]
  },
  {
   "cell_type": "code",
   "execution_count": 94,
   "metadata": {
    "collapsed": false
   },
   "outputs": [
    {
     "data": {
      "text/plain": [
       "10"
      ]
     },
     "execution_count": 94,
     "metadata": {},
     "output_type": "execute_result"
    }
   ],
   "source": [
    "len(b)"
   ]
  },
  {
   "cell_type": "code",
   "execution_count": 111,
   "metadata": {
    "collapsed": false
   },
   "outputs": [],
   "source": [
    "avance(0,100)"
   ]
  },
  {
   "cell_type": "code",
   "execution_count": null,
   "metadata": {
    "collapsed": true
   },
   "outputs": [],
   "source": []
  }
 ],
 "metadata": {
  "kernelspec": {
   "display_name": "Python 3",
   "language": "python",
   "name": "python3"
  },
  "language_info": {
   "codemirror_mode": {
    "name": "ipython",
    "version": 3
   },
   "file_extension": ".py",
   "mimetype": "text/x-python",
   "name": "python",
   "nbconvert_exporter": "python",
   "pygments_lexer": "ipython3",
   "version": "3.4.0"
  }
 },
 "nbformat": 4,
 "nbformat_minor": 0
}
