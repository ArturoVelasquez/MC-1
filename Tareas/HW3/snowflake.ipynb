{
 "cells": [
  {
   "cell_type": "code",
   "execution_count": 254,
   "metadata": {
    "collapsed": true
   },
   "outputs": [],
   "source": [
    "import turtle\n",
    "import os"
   ]
  },
  {
   "cell_type": "code",
   "execution_count": 255,
   "metadata": {
    "collapsed": false,
    "scrolled": true
   },
   "outputs": [],
   "source": [
    "#Define el avance en un solo lado del triángulo\n",
    "def avance(orden,lado):\n",
    "    if (orden == 0):\n",
    "        turtle.forward(lado)\n",
    "        turtle.left(120)\n",
    "    else:\n",
    "        avance(orden-1,lado/3)\n",
    "        turtle.right(60)\n",
    "        avance(orden-1,lado/3)\n",
    "        turtle.left(120)\n",
    "        avance(orden-1,lado/3)\n",
    "        turtle.right(60)\n",
    "        avance(orden-1,lado/3)"
   ]
  },
  {
   "cell_type": "code",
   "execution_count": 256,
   "metadata": {
    "collapsed": true
   },
   "outputs": [],
   "source": [
    "def koch(orden,lado):\n",
    "    #Crea el canvas de la imagen\n",
    "    turtle.setup(width=700, height=700)\n",
    "    turtle.title(\"Koch Snowflake orden %d\"%orden)\n",
    "    #Da los patrones para dibujar\n",
    "    turtle.down()\n",
    "    turtle.speed(10)\n",
    "    turtle.hideturtle()\n",
    "    #Acomoda posición inicial para poder dejar la figura centrada\n",
    "    turtle.penup()\n",
    "    turtle.backward(lado/2)\n",
    "    turtle.left(90)\n",
    "    turtle.forward(lado/3)\n",
    "    turtle.right(90)\n",
    "    turtle.pendown()\n",
    "    #Realiza al avance por lado y una vez termina gira para continuar el triángulo\n",
    "    avance(orden,lado)\n",
    "    turtle.right(240)\n",
    "    avance(orden,lado)\n",
    "    turtle.right(240)\n",
    "    avance(orden,lado)\n",
    "    #Graba la imagen y termine el proceso\n",
    "    ts = turtle.getscreen()\n",
    "    ts.getcanvas().postscript(file=\"tortuga%d.eps\"%orden)\n",
    "    turtle.bye()"
   ]
  },
  {
   "cell_type": "code",
   "execution_count": 257,
   "metadata": {
    "collapsed": false
   },
   "outputs": [
    {
     "data": {
      "text/plain": [
       "0"
      ]
     },
     "execution_count": 257,
     "metadata": {},
     "output_type": "execute_result"
    }
   ],
   "source": [
    "#Corre la simulación anterior y crea las imágenes\n",
    "for i in range(0,6,1):\n",
    "    koch(i,550)\n",
    "    os.system(\"convert tortuga%d.eps tortuga%d.png\"%(i,i))\n",
    "os.system(\"rm *.eps\")"
   ]
  },
  {
   "cell_type": "code",
   "execution_count": 260,
   "metadata": {
    "collapsed": false
   },
   "outputs": [
    {
     "data": {
      "text/plain": [
       "0"
      ]
     },
     "execution_count": 260,
     "metadata": {},
     "output_type": "execute_result"
    }
   ],
   "source": [
    "#Crea la animación\n",
    "os.system(\"convert -delay 100 -loop 0 $(ls *.png | sort -V) koch.gif\")"
   ]
  },
  {
   "cell_type": "code",
   "execution_count": null,
   "metadata": {
    "collapsed": true
   },
   "outputs": [],
   "source": []
  }
 ],
 "metadata": {
  "kernelspec": {
   "display_name": "Python 3",
   "language": "python",
   "name": "python3"
  },
  "language_info": {
   "codemirror_mode": {
    "name": "ipython",
    "version": 3
   },
   "file_extension": ".py",
   "mimetype": "text/x-python",
   "name": "python",
   "nbconvert_exporter": "python",
   "pygments_lexer": "ipython3",
   "version": "3.4.0"
  }
 },
 "nbformat": 4,
 "nbformat_minor": 0
}
