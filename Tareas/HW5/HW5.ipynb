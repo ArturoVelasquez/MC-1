{
 "cells": [
  {
   "cell_type": "code",
   "execution_count": 1,
   "metadata": {
    "collapsed": true
   },
   "outputs": [],
   "source": [
    "#Importo librerías necesarias\n",
    "import numpy as np\n",
    "import matplotlib.pyplot as plt"
   ]
  },
  {
   "cell_type": "markdown",
   "metadata": {},
   "source": [
    "#Cuestiones previas:\n",
    "###1. La forma de guardar la información de las masas es la siguiente:\n",
    "+ Cada una tiene dos componentes: un vector $r$ (que contiene posición en $\\hat{\\textbf{i}}$ y $\\hat{\\textbf{j}}$) y un vector $v$ (que contiene velocidad en $\\hat{\\textbf{i}}$ y $\\hat{\\textbf{j}}$).\n",
    "+ El array Y contiene la información de **todas** las masas en cuestión. El orden de la información contenida en este array es: [$r_1,v_1,r_2,v_2, \\dots ,r_n,v_n$]. Definidos $r$ y $v$ como se explicó en el punto anterior.\n",
    "\n",
    "###2. Se utilizó la siguiente fórmula para de interacción gravitacional (Asumiendo $G = 1$):\n",
    "\n",
    "$$m_i \\dfrac{d^2x}{dt^2} = - \\sum_{i \\neq j} \\dfrac{m_i m_j (x_i - x_j)}{r^3_{ij}}\\\\$$\n",
    "$$i = 1, \\dots , N$$\n",
    "\n",
    "###3. Se utilizó el método de Runge-Kutta de orden 4 para resolver las ecuaciones diferenciales de movimiento. Recordando que este se basa en que:\n",
    "\n",
    "$$\\dfrac{d}{dt} Y(t) = f(Y)$$"
   ]
  },
  {
   "cell_type": "code",
   "execution_count": 85,
   "metadata": {
    "collapsed": true
   },
   "outputs": [],
   "source": [
    "#Se define la función f(Y) y el método de Runge-Kutta basados en la explicación anterior y \n",
    "#en lo tomado del cuaderno de la clase de ODE\n",
    "#https://github.com/ComputoCienciasUniandes/MetodosComputacionales/blob/master/slides/2015-V/10-ODE.ipynb\n",
    "def f(Y):\n",
    "    info = []\n",
    "    for i in range(0,len(Y),2):\n",
    "        v = 0\n",
    "        for j in range(0,len(Y),2):\n",
    "            if (j!=i):\n",
    "                v += ((Y[i] - Y[j]) / np.sqrt(Y[i]**2 + Y[j]**2)**3)\n",
    "        info.extend((Y[i],-v))\n",
    "    return(np.array(info))\n",
    "\n",
    "def one_Kutta4_step():\n",
    "    global t\n",
    "    global Deltat\n",
    "    global Y\n",
    "    K1 = f(Y)\n",
    "    K2 = f(Y + Deltat*(1/2.*K1))\n",
    "    K3 = f(Y + Deltat*(1./2.*K2))\n",
    "    K4 = f(Y + Deltat*K3)\n",
    "    Y += Deltat * (1/6.*K1 + 1/3. * K2 + 1/3.*K3 + 1/6.*K4)"
   ]
  },
  {
   "cell_type": "markdown",
   "metadata": {},
   "source": [
    "##Punto 1) 3-Coreografía"
   ]
  },
  {
   "cell_type": "code",
   "execution_count": 86,
   "metadata": {
    "collapsed": true
   },
   "outputs": [],
   "source": [
    "#Defino las ecuaciones iniciales\n",
    "a = 0.24250109\n",
    "b = -0.0607718825\n",
    "c = 0.93240737\n",
    "d = 0.86473146\n",
    "\n",
    "#Se ordena la información de cada masa y la del total en Y basados en la explicación inicial.\n",
    "r1 = np.array([a,b])\n",
    "r2 = np.array([-a,-b])\n",
    "r3 = np.array([0,0])\n",
    "\n",
    "v1 = np.array([c,d])\n",
    "v2 = np.array([c,d])\n",
    "v3 = np.array([-2*c,-2*d])\n",
    "\n",
    "Y = np.array([r1,v1,r2,v2,r3,v3])\n",
    "\n",
    "#\n",
    "#y1 = np.array([a,b,c,d])\n",
    "#\n",
    "#y2 = np.array([-a,-b,c,d])\n",
    "#\n",
    "#y3 = np.array([0,0,-2*c,-2*d])\n",
    "#\n",
    "#Y = np.array([y1,y2,y3])"
   ]
  },
  {
   "cell_type": "code",
   "execution_count": 84,
   "metadata": {
    "collapsed": false
   },
   "outputs": [],
   "source": []
  },
  {
   "cell_type": "code",
   "execution_count": 47,
   "metadata": {
    "collapsed": false
   },
   "outputs": [
    {
     "data": {
      "text/plain": [
       "3"
      ]
     },
     "execution_count": 47,
     "metadata": {},
     "output_type": "execute_result"
    }
   ],
   "source": [
    "int(len(Y)/2)"
   ]
  },
  {
   "cell_type": "code",
   "execution_count": 43,
   "metadata": {
    "collapsed": false
   },
   "outputs": [
    {
     "data": {
      "text/plain": [
       "12"
      ]
     },
     "execution_count": 43,
     "metadata": {},
     "output_type": "execute_result"
    }
   ],
   "source": [
    "Y.size"
   ]
  },
  {
   "cell_type": "code",
   "execution_count": 46,
   "metadata": {
    "collapsed": false
   },
   "outputs": [
    {
     "data": {
      "text/plain": [
       "float"
      ]
     },
     "execution_count": 46,
     "metadata": {},
     "output_type": "execute_result"
    }
   ],
   "source": [
    "(len(Y)/2).__class__"
   ]
  },
  {
   "cell_type": "code",
   "execution_count": 49,
   "metadata": {
    "collapsed": false
   },
   "outputs": [
    {
     "data": {
      "text/plain": [
       "True"
      ]
     },
     "execution_count": 49,
     "metadata": {},
     "output_type": "execute_result"
    }
   ],
   "source": [
    "a = 2\n",
    "b = 3\n",
    "a!=b"
   ]
  },
  {
   "cell_type": "code",
   "execution_count": 55,
   "metadata": {
    "collapsed": true
   },
   "outputs": [],
   "source": [
    "def f(Y):\n",
    "    r3=(np.sqrt(Y[0]**2+Y[1]**2))**3\n",
    "    return np.array([Y[2],Y[3],-Y[0]/r3,-Y[1]/r3])"
   ]
  },
  {
   "cell_type": "code",
   "execution_count": 56,
   "metadata": {
    "collapsed": true
   },
   "outputs": [],
   "source": [
    "def one_Kutta4_step():\n",
    "    global t\n",
    "    global Deltat\n",
    "    global Y\n",
    "    K1 = f(Y)\n",
    "    K2 = f(Y + Deltat*(1./2.*K1))\n",
    "    K3 = f(Y + Deltat*(1./2.*K2))\n",
    "    K4 = f(Y + Deltat*K3)\n",
    "    Y+= Deltat * (1/6.*K1 + 1/3. * K2 + 1/3.*K3 + 1/6.*K4)\n",
    "    t+= Deltat"
   ]
  },
  {
   "cell_type": "code",
   "execution_count": 57,
   "metadata": {
    "collapsed": true
   },
   "outputs": [],
   "source": [
    "chosenstep=one_Kutta4_step\n",
    "numIter=100\n",
    "Y=np.array([1.,0.,0.,1.])\n",
    "tmax=2*np.pi\n",
    "t=0.\n",
    "Deltat=tmax/numIter\n",
    "history=np.array([[t,Y[0],Y[1],Y[2],Y[3]]])\n",
    "for __ in range(numIter):\n",
    "    chosenstep()\n",
    "    history=np.append(history,[[t,Y[0],Y[1],Y[2],Y[3]]],axis=0)\n",
    "plt.figure()\n",
    "plt.plot(history[:,1],history[:,2],\"o\",ms=1)\n",
    "plt.title(\"Kutta Orden 4\")\n",
    "plt.axis('equal')\n",
    "plt.show()"
   ]
  },
  {
   "cell_type": "code",
   "execution_count": 69,
   "metadata": {
    "collapsed": false
   },
   "outputs": [
    {
     "data": {
      "text/plain": [
       "array([  0.00000000e+00,  -6.27905267e-02,  -1.25333248e-01,\n",
       "        -1.87381337e-01,  -2.48689917e-01,  -3.09017033e-01,\n",
       "        -3.68124601e-01,  -4.25779350e-01,  -4.81753744e-01,\n",
       "        -5.35826876e-01,  -5.87785346e-01,  -6.37424097e-01,\n",
       "        -6.84547227e-01,  -7.28968763e-01,  -7.70513393e-01,\n",
       "        -8.09017160e-01,  -8.44328106e-01,  -8.76306874e-01,\n",
       "        -9.04827260e-01,  -9.29776705e-01,  -9.51056746e-01,\n",
       "        -9.68583400e-01,  -9.82287495e-01,  -9.92114949e-01,\n",
       "        -9.98026976e-01,  -1.00000024e+00,  -9.98026965e-01,\n",
       "        -9.92114926e-01,  -9.82287458e-01,  -9.68583347e-01,\n",
       "        -9.51056675e-01,  -9.29776612e-01,  -9.04827140e-01,\n",
       "        -8.76306724e-01,  -8.44327920e-01,  -8.09016934e-01,\n",
       "        -7.70513122e-01,  -7.28968441e-01,  -6.84546849e-01,\n",
       "        -6.37423658e-01,  -5.87784841e-01,  -5.35826301e-01,\n",
       "        -4.81753095e-01,  -4.25778624e-01,  -3.68123796e-01,\n",
       "        -3.09016148e-01,  -2.48688950e-01,  -1.87380288e-01,\n",
       "        -1.25332120e-01,  -6.27893213e-02,   1.27925850e-06,\n",
       "         6.27918753e-02,   1.25334660e-01,   1.87382806e-01,\n",
       "         2.48691436e-01,   3.09018593e-01,   3.68126192e-01,\n",
       "         4.25780963e-01,   4.81755366e-01,   5.35828498e-01,\n",
       "         5.87786955e-01,   6.37425680e-01,   6.84548772e-01,\n",
       "         7.28970258e-01,   7.70514825e-01,   8.09018517e-01,\n",
       "         8.44329376e-01,   8.76308046e-01,   9.04828323e-01,\n",
       "         9.29777650e-01,   9.51057564e-01,   9.68584082e-01,\n",
       "         9.82288035e-01,   9.92115341e-01,   9.98027215e-01,\n",
       "         1.00000033e+00,   9.98026891e-01,   9.92114694e-01,\n",
       "         9.82287070e-01,   9.68582803e-01,   9.51055980e-01,\n",
       "         9.29775771e-01,   9.04826158e-01,   8.76305609e-01,\n",
       "         8.44326679e-01,   8.09015577e-01,   7.70511658e-01,\n",
       "         7.28966881e-01,   6.84545205e-01,   6.37421940e-01,\n",
       "         5.87783062e-01,   5.35824473e-01,   4.81751229e-01,\n",
       "         4.25776734e-01,   3.68121892e-01,   3.09014241e-01,\n",
       "         2.48687053e-01,   1.87378411e-01,   1.25330271e-01,\n",
       "         6.27875108e-02,  -3.04329850e-06])"
      ]
     },
     "execution_count": 69,
     "metadata": {},
     "output_type": "execute_result"
    }
   ],
   "source": [
    "history[:,3]#,history[:,1]"
   ]
  },
  {
   "cell_type": "code",
   "execution_count": 77,
   "metadata": {
    "collapsed": false
   },
   "outputs": [],
   "source": [
    "a = []"
   ]
  },
  {
   "cell_type": "code",
   "execution_count": 80,
   "metadata": {
    "collapsed": false
   },
   "outputs": [],
   "source": [
    "a.extend((1,2))"
   ]
  },
  {
   "cell_type": "code",
   "execution_count": 83,
   "metadata": {
    "collapsed": false
   },
   "outputs": [
    {
     "data": {
      "text/plain": [
       "[1, 2, 1, 2, (1, 2)]"
      ]
     },
     "execution_count": 83,
     "metadata": {},
     "output_type": "execute_result"
    }
   ],
   "source": [
    "a"
   ]
  },
  {
   "cell_type": "code",
   "execution_count": 82,
   "metadata": {
    "collapsed": true
   },
   "outputs": [],
   "source": [
    "a.append((1,2))"
   ]
  },
  {
   "cell_type": "code",
   "execution_count": null,
   "metadata": {
    "collapsed": true
   },
   "outputs": [],
   "source": []
  }
 ],
 "metadata": {
  "kernelspec": {
   "display_name": "Python 3",
   "language": "python",
   "name": "python3"
  },
  "language_info": {
   "codemirror_mode": {
    "name": "ipython",
    "version": 3
   },
   "file_extension": ".py",
   "mimetype": "text/x-python",
   "name": "python",
   "nbconvert_exporter": "python",
   "pygments_lexer": "ipython3",
   "version": "3.4.0"
  }
 },
 "nbformat": 4,
 "nbformat_minor": 0
}
