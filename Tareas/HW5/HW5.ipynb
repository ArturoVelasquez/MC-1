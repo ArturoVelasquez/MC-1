{
 "cells": [
  {
   "cell_type": "code",
   "execution_count": 3,
   "metadata": {
    "collapsed": true
   },
   "outputs": [],
   "source": [
    "#Importo librerías necesarias\n",
    "import numpy as np\n",
    "from numpy.linalg import norm\n",
    "import matplotlib.pyplot as plt\n",
    "%matplotlib inline"
   ]
  },
  {
   "cell_type": "markdown",
   "metadata": {},
   "source": [
    "#Cuestiones previas:\n",
    "###1. La forma de guardar la información de las masas es la siguiente:\n",
    "+ Cada una tiene dos componentes: un vector $r$ (que contiene posición en $\\hat{\\textbf{i}}$ y $\\hat{\\textbf{j}}$) y un vector $v$ (que contiene velocidad en $\\hat{\\textbf{i}}$ y $\\hat{\\textbf{j}}$).\n",
    "+ El array Y contiene la información de **todas** las masas en cuestión. El orden de la información contenida en este array es: [$r_1,v_1,r_2,v_2, \\dots ,r_n,v_n$]. Definidos $r$ y $v$ como se explicó en el punto anterior.\n",
    "\n",
    "###2. Se utilizó la siguiente fórmula para de interacción gravitacional (Asumiendo $G = 1$):\n",
    "\n",
    "$$\\\\ m_i \\dfrac{d^2x}{dt^2} = - \\sum_{i \\neq j} \\dfrac{m_i m_j (x_i - x_j)}{r^3_{ij}}\\\\$$\n",
    "$$i = 1, \\dots , N$$\n",
    "\n",
    "###3. Se utilizó el método de Runge-Kutta de orden 4 para resolver las ecuaciones diferenciales de movimiento. Recordando que este se basa en que:\n",
    "\n",
    "$$\\dfrac{d}{dt} Y(t) = f(Y)$$\n",
    "\n",
    "###4. Todo lo aquí hecho se basa en la información tomada de las fuentes: [1](http://www14.in.tum.de/konferenzen/Jass05/courses/2/Lapshin/Lapshin_paper.pdf) y [2](http://radio.astro.gla.ac.uk/a1dynamics/pw/code/simple-3-body.py)."
   ]
  },
  {
   "cell_type": "code",
   "execution_count": 12,
   "metadata": {
    "collapsed": false
   },
   "outputs": [],
   "source": [
    "#Se define la función f(Y) y el método de Runge-Kutta basados en la explicación anterior y \n",
    "#en lo tomado del cuaderno de la clase de ODE\n",
    "#https://github.com/ComputoCienciasUniandes/MetodosComputacionales/blob/master/slides/2015-V/10-ODE.ipynb\n",
    "\n",
    "#Defino la velocidad del centro de masa\n",
    "def vel_centr_mas(Y):\n",
    "    vm = 0\n",
    "    mass = 0\n",
    "    for i in range(len(Y)):\n",
    "        vm += Y[i]['m']*Y[i]['v']\n",
    "        mass += Y[i]['m']\n",
    "    return (vm/mass)\n",
    "\n",
    "def F(Y):\n",
    "    r = np.array([])\n",
    "    for i in range(len(Y)):\n",
    "        ractual = Y[i]['r']\n",
    "        r = np.append(r,)\n",
    "\n",
    "def f(Y):\n",
    "    info = []\n",
    "    for i in range(0,len(Y),2):\n",
    "        v = 0\n",
    "        for j in range(0,len(Y),2):\n",
    "            if (i != j):\n",
    "                v -= ((Y[i] - Y[j]) / norm(Y[i] - Y[j])**3)\n",
    "        info.extend((Y[i+1],v))\n",
    "    return(np.array(info))\n",
    "\n",
    "def one_Kutta4_step(dt,Y):\n",
    "    #Reseuvlo con Runge-Kutta orden 4\n",
    "    K1 = dt*f(Y)\n",
    "    K2 = dt*f(Y + (1/2.*K1))\n",
    "    K3 = dt*f(Y + (1./2.*K2))\n",
    "    K4 = dt*f(Y + K3)\n",
    "    dy = 1/6.*K1 + 1/3.*K2 + 1/3.*K3 + 1/6.*K4\n",
    "    #Asigno los valores nuevos\n",
    "    Y += dy\n",
    "    \n",
    "def one_Kutta4_step1():\n",
    "    global t\n",
    "    global Deltat\n",
    "    global Y\n",
    "    K1 = f(Y)\n",
    "    K2 = f(Y + Deltat*(1./2.*K1))\n",
    "    K3 = f(Y + Deltat*(1./2.*K2))\n",
    "    K4 = f(Y + Deltat*K3)\n",
    "    Y+= Deltat * (1/6.*K1 + 1/3. * K2 + 1/3.*K3 + 1/6.*K4)\n",
    "    t+= Deltat\n",
    "\n",
    "def graficador(history,masa):\n",
    "    if (masa == 0):\n",
    "        plt.figure(figsize=(15,6))\n",
    "        plt.title(\"Kutta Orden 4\")\n",
    "        plt.axis('equal')\n",
    "        plt.xlim(-0.4,0.4)\n",
    "        plt.ylim(-0.1,0.1)\n",
    "        for i in range(0,len(Y),2):\n",
    "            plt.scatter(history[:,i][:,0],history[:,i][:,1],s=1)\n",
    "            plt.scatter(history[:,i][:,0][0],history[:,i][:,1][0],s=50)\n",
    "        plt.show()\n",
    "    else:\n",
    "        plt.figure(figsize=(15,6))\n",
    "        plt.title(\"Kutta Orden 4\")\n",
    "        #plt.axis('equal')\n",
    "        plt.xlim(-0.4,0.4)\n",
    "        plt.ylim(-0.1,0.1)\n",
    "        plt.scatter(history[:,int(masa-1)][:,0],history[:,int(masa-1)][:,1],s=1)\n",
    "        plt.scatter(history[:,int(masa-1)][:,0][0],history[:,int(masa-1)][:,1][0],s=50)\n",
    "        plt.show()\n",
    "\n",
    "def simulacion(numIter,dt,Y):\n",
    "    history=np.array([Y])\n",
    "    for iters in range(numIter):\n",
    "        one_Kutta4_step(dt,Y)\n",
    "        history=np.append(history,[Y],axis=0)\n",
    "    return (history)"
   ]
  },
  {
   "cell_type": "markdown",
   "metadata": {},
   "source": [
    "##Punto 1) 3-Coreografía"
   ]
  },
  {
   "cell_type": "code",
   "execution_count": 27,
   "metadata": {
    "collapsed": false
   },
   "outputs": [],
   "source": [
    "#Defino las ecuaciones iniciales\n",
    "a = 0.24250109\n",
    "b = -0.0607718825\n",
    "c = 0.93240737\n",
    "d = 0.86473146\n",
    "\n",
    "#Se ordena la información de cada masa y la del total en Y basados en la explicación inicial.\n",
    "r1 = np.array([a,b])\n",
    "r2 = np.array([-a,-b])\n",
    "r3 = np.array([0,0])\n",
    "\n",
    "v1 = np.array([c,d])\n",
    "v2 = np.array([c,d])\n",
    "v3 = np.array([-2*c,-2*d])\n",
    "\n",
    "#m1 = {'r':r1 , 'v':v1, 'm':1,}\n",
    "#m2 = {'r':r2 , 'v':v2, 'm':1,}\n",
    "#m3 = {'r':r3 , 'v':v3, 'm':1,}\n",
    "\n",
    "#Y = np.array([m1,m2,m3])\n",
    "\n",
    "Y = np.array([r1,v1,r2,v2,r3,v3])\n",
    "\n",
    "#### Pruebas - ignorar -\n",
    "#y1 = np.array([a,b,c,d])\n",
    "#\n",
    "#y2 = np.array([-a,-b,c,d])\n",
    "#\n",
    "#y3 = np.array([0,0,-2*c,-2*d])\n",
    "#7\n",
    "#Y = np.array([y1,y2,y3])"
   ]
  },
  {
   "cell_type": "code",
   "execution_count": 28,
   "metadata": {
    "collapsed": false
   },
   "outputs": [
    {
     "data": {
      "image/png": "[encoded data removed]",
      "text/plain": [
       "<matplotlib.figure.Figure at 0x7f1b80081828>"
      ]
     },
     "metadata": {},
     "output_type": "display_data"
    }
   ],
   "source": [
    "graficador(simulacion(100,0.0050,Y),masa=3)"
   ]
  },
  {
   "cell_type": "code",
   "execution_count": 16,
   "metadata": {
    "collapsed": false
   },
   "outputs": [
    {
     "data": {
      "text/plain": [
       "(-0.1, 0.1)"
      ]
     },
     "execution_count": 16,
     "metadata": {},
     "output_type": "execute_result"
    },
    {
     "data": {
      "image/png": "[encoded data removed]",
      "text/plain": [
       "<matplotlib.figure.Figure at 0x7ff75a55c0f0>"
      ]
     },
     "metadata": {},
     "output_type": "display_data"
    }
   ],
   "source": [
    "plt.scatter(r1[0],r1[1],s=50)\n",
    "plt.xlim(-0.4,0.4)\n",
    "plt.ylim(-0.1,0.1)"
   ]
  },
  {
   "cell_type": "code",
   "execution_count": 4,
   "metadata": {
    "collapsed": false
   },
   "outputs": [],
   "source": [
    "aaa = simulacion(100,0.0020,Y)#[:,0][:,0]"
   ]
  },
  {
   "cell_type": "code",
   "execution_count": 7,
   "metadata": {
    "collapsed": false
   },
   "outputs": [
    {
     "data": {
      "text/plain": [
       "-0.060771882499999999"
      ]
     },
     "execution_count": 7,
     "metadata": {},
     "output_type": "execute_result"
    }
   ],
   "source": [
    "aaa[:,0][:,1][0]"
   ]
  },
  {
   "cell_type": "code",
   "execution_count": null,
   "metadata": {
    "collapsed": true
   },
   "outputs": [],
   "source": []
  }
 ],
 "metadata": {
  "kernelspec": {
   "display_name": "Python 3",
   "language": "python",
   "name": "python3"
  },
  "language_info": {
   "codemirror_mode": {
    "name": "ipython",
    "version": 3
   },
   "file_extension": ".py",
   "mimetype": "text/x-python",
   "name": "python",
   "nbconvert_exporter": "python",
   "pygments_lexer": "ipython3",
   "version": "3.4.0"
  }
 },
 "nbformat": 4,
 "nbformat_minor": 0
}
