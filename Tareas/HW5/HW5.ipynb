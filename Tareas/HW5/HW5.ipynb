{
 "cells": [
  {
   "cell_type": "code",
   "execution_count": 1,
   "metadata": {
    "collapsed": true
   },
   "outputs": [],
   "source": [
    "#Importo librerías necesarias\n",
    "import numpy as np\n",
    "from numpy.linalg import norm\n",
    "import matplotlib.pyplot as plt\n",
    "%matplotlib inline\n",
    "import os"
   ]
  },
  {
   "cell_type": "markdown",
   "metadata": {},
   "source": [
    "#Cuestiones previas:\n",
    "###1. La forma de guardar la información de las masas es la siguiente:\n",
    "+ Cada una tiene dos componentes: un vector $r$ (que contiene posición en $\\hat{\\textbf{i}}$ y $\\hat{\\textbf{j}}$) y un vector $v$ (que contiene velocidad en $\\hat{\\textbf{i}}$ y $\\hat{\\textbf{j}}$).\n",
    "+ El array Y contiene la información de **todas** las masas en cuestión. El orden de la información contenida en este array es: [$r_1,v_1,r_2,v_2, \\dots ,r_n,v_n$]. Definidos $r$ y $v$ como se explicó en el punto anterior.\n",
    "\n",
    "###2. Utilizamos la siguiente fórmula para definir la interacción gravitacional (Asumiendo $G = 1$):\n",
    "\n",
    "$$\\\\ m_i \\dfrac{d^2x}{dt^2} = - \\sum_{i \\neq j} \\dfrac{m_i m_j (x_i - x_j)}{r^3_{ij}}\\\\$$\n",
    "$$i = 1, \\dots , N$$\n",
    "\n",
    "###3. Utilizamos el método de Runge-Kutta de orden 4 para resolver las ecuaciones diferenciales de movimiento. Recordando que este se basa en que:\n",
    "\n",
    "$$\\dfrac{d}{dt} Y(t) = f(Y)$$\n",
    "\n",
    "###4. Todo lo aquí hecho se basa en la información tomada de las fuentes: [1](http://www14.in.tum.de/konferenzen/Jass05/courses/2/Lapshin/Lapshin_paper.pdf), [2](http://radio.astro.gla.ac.uk/a1dynamics/pw/code/simple-3-body.py), [3](https://github.com/ComputoCienciasUniandes/MetodosComputacionales/blob/master/slides/2015-V/10-ODE.ipynb).\n",
    "\n",
    "###5. A conitnuación se definen las funciones a utilizar:"
   ]
  },
  {
   "cell_type": "code",
   "execution_count": 2,
   "metadata": {
    "collapsed": true
   },
   "outputs": [],
   "source": [
    "#Basados en el inciso (2) y la fuente 1 definimos la función de m*a. Que para el método Runge-Kutta sería la velocidad.\n",
    "def f(Y):\n",
    "    info = [] #Toda la información se guarda en esta variable local, que al final del método es retornada.\n",
    "    for i in range(0,len(Y),2): #Este ciclo recorre cada una de las masas.\n",
    "        v = 0\n",
    "        #Este ciclo encuentra la atracción que siente cada una de las masas efectuada por las demás.\n",
    "        for j in range(0,len(Y),2):\n",
    "            if (i != j): #Utilizamos esta condición para evitar calcular la fuerza que una masa ejerce sobre sí misma.\n",
    "                v -= ((Y[i] - Y[j]) / norm(Y[i] - Y[j])**3)\n",
    "        info.extend((Y[i+1],v))\n",
    "    return(np.array(info))"
   ]
  },
  {
   "cell_type": "code",
   "execution_count": 3,
   "metadata": {
    "collapsed": true
   },
   "outputs": [],
   "source": [
    "#Basados en las fuentes 2 y 3 implementamos el método de Runge-Kutta de orden 4.\n",
    "def runge_kutta_orden4(dt,Y):\n",
    "    #Resolvemos las ecuaciones de movimiento con Runge-Kutta orden 4.\n",
    "    K1 = f(Y)\n",
    "    K2 = f(Y + dt*(1./2.*K1))\n",
    "    K3 = f(Y + dt*(1./2.*K2))\n",
    "    K4 = f(Y + dt*K3)\n",
    "    #Asignamos los nuevos valores encontrados al vector inicial.\n",
    "    Y+= dt * (1/6.*K1 + 1/3. * K2 + 1/3.*K3 + 1/6.*K4)"
   ]
  },
  {
   "cell_type": "code",
   "execution_count": 4,
   "metadata": {
    "collapsed": false
   },
   "outputs": [],
   "source": [
    "#Definimos una función que llama varias veces el método de Runge-Kutta para efectuar la simulación.\n",
    "def simulacion(numIter=100,tmax=1,Y=-1,**kwargs):\n",
    "    if ((len(Y)%2) != 0):\n",
    "        #Arroja error si no se pasa un Y, o el que se pasa no tiene el formato adecuado\n",
    "        raise TypeError(\"Introduzca un Y válido\")\n",
    "    dt = tmax/numIter #Se cuadra la escala de tiempo para que 1 periodo se ajuste al dt del método.\n",
    "    history=np.array([Y]) #Este array contendrá la información luego de cada iteración con el fin de poder graficar.\n",
    "    for iters in range(numIter):#Se ejecuta el método Runge-Kutta durante la cantidad de iteraciones propuestas\n",
    "        runge_kutta_orden4(dt,Y)\n",
    "        history=np.append(history,[Y],axis=0)\n",
    "    restartY()#Retorna el valor de Y al inicial\n",
    "    return (history)"
   ]
  },
  {
   "cell_type": "code",
   "execution_count": 5,
   "metadata": {
    "collapsed": false
   },
   "outputs": [],
   "source": [
    "#Definimos una función que grafica basados en los datos arrojados por la simulación\n",
    "#Se pasa por parámetro la historia de la simulación y la trayectoria de la masa que se quiere graficar\n",
    "#Si no se pasa ninguna masa por parámetro (o se iguala a 0) muestra la trayectoria de todas las masas\n",
    "def graficador(history,masa=0,**args):\n",
    "    if (masa == 0):\n",
    "        plt.figure(figsize=(14,4))\n",
    "        plt.axis('equal')\n",
    "        for i in range(0,len(Y),2):\n",
    "            plt.scatter(history[:,i][:,0],history[:,i][:,1],s=1)\n",
    "            plt.scatter(history[:,i][:,0][0],history[:,i][:,1][0],s=30,label=\"Inicio\",color='blue')\n",
    "            #plt.scatter(history[:,i][:,0][-1],history[:,i][:,1][-1],s=30,label=\"Fin\",color='red')\n",
    "        plt.legend(loc=0)\n",
    "        plt.xlabel('Posición $x$')\n",
    "        plt.ylabel('Posición $y$')\n",
    "        plt.title('Trayectorias de las masas',fontsize=15)\n",
    "        plt.show()\n",
    "    else:\n",
    "        plt.figure(figsize=(14,4))\n",
    "        plt.axis('equal')\n",
    "        plt.scatter(history[:,int((masa-1)*2)][:,0],history[:,int((masa-1)*2)][:,1],s=1)\n",
    "        plt.scatter(history[:,int((masa-1)*2)][:,0][0],history[:,int((masa-1)*2)][:,1][0],s=30,label=\"Inicio\",color='blue')\n",
    "        plt.scatter(history[:,int((masa-1)*2)][:,0][-1],history[:,int((masa-1)*2)][:,1][-1],s=30,label=\"Fin\",color='red')\n",
    "        plt.legend(loc=0)\n",
    "        plt.xlabel('Posición $x$')\n",
    "        plt.ylabel('Posición $y$')\n",
    "        plt.title('Trayectoria de $m_{%d}$'%masa,fontsize=15)\n",
    "        plt.show()"
   ]
  },
  {
   "cell_type": "code",
   "execution_count": 6,
   "metadata": {
    "collapsed": true
   },
   "outputs": [],
   "source": [
    "#Retorna Y a las condiciones iniciales\n",
    "def restartY():\n",
    "    global Y\n",
    "    global Yini\n",
    "    Y = Yini"
   ]
  },
  {
   "cell_type": "code",
   "execution_count": 7,
   "metadata": {
    "collapsed": true
   },
   "outputs": [],
   "source": [
    "#Encuentra el periodo de las trayectorias por fuerza bruta basados en rangos tentativos.\n",
    "def encuentraT(Y,rangoa,rangob,steps=100,epsilon=0.001,**args): #Definimos un epsilon pequeño que sea el margen de error.\n",
    "    rangoBusqueda = np.linspace(rangoa,rangob,steps)\n",
    "    T = -1\n",
    "    for i in rangoBusqueda:\n",
    "        #Corremos la simulación con varios tmax hasta encontrar el que sea el periodo-\n",
    "        history=simulacion(numIter=200,Y=Y,tmax=i)\n",
    "        inicio = np.array([history[:,0][:,0][0],history[:,0][:,1][0]])\n",
    "        fin = np.array([history[:,0][:,0][-1],history[:,0][:,1][-1]])\n",
    "        distancia = norm(inicio - fin)\n",
    "        if (distancia <= epsilon):#En caso de la distancia ser menor al epsilon se define el tmax acutal como el\n",
    "                                #periodo y se frena el ciclo.\n",
    "            T = i\n",
    "            break\n",
    "    #Como definimos T = -1, en caso de no cumplirse la condición de ser menor al epsilon se retorna -1 como\n",
    "    #signo de error\n",
    "    return(T)"
   ]
  },
  {
   "cell_type": "code",
   "execution_count": 8,
   "metadata": {
    "collapsed": true
   },
   "outputs": [],
   "source": [
    "#Animador\n",
    "def animador(history):\n",
    "    colors = ['b','g','r','c','m','y']\n",
    "    for j in range(len(history)):\n",
    "        plt.figure(figsize=(14,4))\n",
    "        plt.axis('equal')\n",
    "        plt.plot(history[:,0][:,0],history[:,0][:,1],'--',color='grey')\n",
    "        xlim = plt.gca().get_xlim()\n",
    "        ylim = plt.gca().get_ylim()\n",
    "        plt.xlim(xlim)\n",
    "        plt.ylim(ylim)\n",
    "        for i in range(0,len(Y),2):\n",
    "            plt.scatter(history[:,i][:,0][j],history[:,i][:,1][j],s=30,color=colors[int(i/2)])\n",
    "        plt.grid()\n",
    "        plt.xlabel('Posición $x$')\n",
    "        plt.ylabel('Posición $y$')\n",
    "        plt.title('Gravitational Choreography',fontsize=15)\n",
    "        plt.savefig('anim%d.png'%j)\n",
    "        plt.cla()\n",
    "        plt.close()\n",
    "    os.system(\"convert -delay 3 -loop 0 $(ls anim*.png | sort -V) gravchor.gif\")\n",
    "    os.system(\"rm *.png\")"
   ]
  },
  {
   "cell_type": "markdown",
   "metadata": {},
   "source": [
    "#Punto 1) 3-Coreografía"
   ]
  },
  {
   "cell_type": "markdown",
   "metadata": {},
   "source": [
    "###(a) Resuelva las ecuaciones de movimiento para tres cuerpos de igual masa sujetos a su mutua atracción gravitacional con las siguientes condiciones iniciales:"
   ]
  },
  {
   "cell_type": "code",
   "execution_count": 9,
   "metadata": {
    "collapsed": false
   },
   "outputs": [],
   "source": [
    "#Defino las ecuaciones iniciales\n",
    "a = 0.24250109\n",
    "b = -0.0607718825\n",
    "c = 0.93240737\n",
    "d = 0.86473146\n",
    "\n",
    "#Se ordena la información de cada masa y la del total en Y basados en la explicación inicial.\n",
    "r1 = np.array([a,b])\n",
    "r2 = np.array([-a,-b])\n",
    "r3 = np.array([0,0])\n",
    "\n",
    "v1 = np.array([c,d])\n",
    "v2 = np.array([c,d])\n",
    "v3 = np.array([-2*c,-2*d])\n",
    "\n",
    "#Se crean los vectores que con la información inicial de las masas\n",
    "Y = np.array([r1,v1,r2,v2,r3,v3])\n",
    "Yini = np.array([r1,v1,r2,v2,r3,v3])"
   ]
  },
  {
   "cell_type": "markdown",
   "metadata": {},
   "source": [
    "###Tome $G$ = 1 y use el método de Runge-Kutta de orden 4. Integre las ecuaciones de movimiento para media unidad de tiempo."
   ]
  },
  {
   "cell_type": "code",
   "execution_count": 10,
   "metadata": {
    "collapsed": false
   },
   "outputs": [
    {
     "data": {
      "image/png": "[encoded data removed]",
      "text/plain": [
       "<matplotlib.figure.Figure at 0x7ff48f839d30>"
      ]
     },
     "metadata": {},
     "output_type": "display_data"
    },
    {
     "data": {
      "image/png": "[encoded data removed]",
      "text/plain": [
       "<matplotlib.figure.Figure at 0x7ff48f7b8c88>"
      ]
     },
     "metadata": {},
     "output_type": "display_data"
    },
    {
     "data": {
      "image/png": "[encoded data removed]",
      "text/plain": [
       "<matplotlib.figure.Figure at 0x7ff48f7b8cc0>"
      ]
     },
     "metadata": {},
     "output_type": "display_data"
    },
    {
     "data": {
      "image/png": "[encoded data removed]",
      "text/plain": [
       "<matplotlib.figure.Figure at 0x7ff48f348630>"
      ]
     },
     "metadata": {},
     "output_type": "display_data"
    }
   ],
   "source": [
    "hist=simulacion(numIter=200,Y=Y,tmax=0.5)\n",
    "graficador(hist,masa=1)\n",
    "graficador(hist,masa=2)\n",
    "graficador(hist,masa=3)\n",
    "graficador(hist,masa=0)"
   ]
  },
  {
   "cell_type": "markdown",
   "metadata": {},
   "source": [
    "###(b) Las trayectorias son periódicas, calcule el periodo con por lo menos tres cifras significativas."
   ]
  },
  {
   "cell_type": "code",
   "execution_count": 11,
   "metadata": {
    "collapsed": false
   },
   "outputs": [
    {
     "name": "stdout",
     "output_type": "stream",
     "text": [
      "El periodo de las trayectorias es de aproximadamente 0.7909090909 unidades de tiempo.\n"
     ]
    }
   ],
   "source": [
    "periodoN3 = encuentraT(Y=Y,rangoa=0.7,rangob=0.8)\n",
    "print('El periodo de las trayectorias es de aproximadamente %.10f unidades de tiempo.'%periodoN3)"
   ]
  },
  {
   "cell_type": "markdown",
   "metadata": {
    "collapsed": false
   },
   "source": [
    "###(c) Animación:"
   ]
  },
  {
   "cell_type": "code",
   "execution_count": 12,
   "metadata": {
    "collapsed": false
   },
   "outputs": [],
   "source": [
    "hist=simulacion(numIter=200,Y=Y,tmax=periodoN3)\n",
    "animador(hist)"
   ]
  },
  {
   "cell_type": "markdown",
   "metadata": {},
   "source": [
    "###La animación se puede encontrar en el siguiente [enlace](https://raw.githubusercontent.com/diegolramirez/MC/master/Tareas/HW5/gravchor.gif)."
   ]
  },
  {
   "cell_type": "markdown",
   "metadata": {},
   "source": [
    "#Punto 1) 4-Coreografía"
   ]
  },
  {
   "cell_type": "markdown",
   "metadata": {},
   "source": [
    "###Cuatro masas bajo la influencia de su mutua fuerza de gravedad y siguientes condiciones iniciales tienen un movimiento periódico para cierto valor de a ($m_1\\ =\\ m_2\\ =\\ m_3\\ =\\ m_4\\ =\\ G\\ =\\ 1$). Donde $0.70 < a < 0.78$."
   ]
  },
  {
   "cell_type": "code",
   "execution_count": 13,
   "metadata": {
    "collapsed": true
   },
   "outputs": [],
   "source": [
    "#Defino las ecuaciones iniciales\n",
    "a = 0.70\n",
    "b = 0.384277200514\n",
    "c = 0\n",
    "d = 0.0156823005697\n",
    "e = 0.13966430504\n",
    "f = 0.352912599375\n",
    "g = 2.01155925929\n",
    "h = 1.19817066623\n",
    "i = 1.63619158614\n",
    "\n",
    "#Se ordena la información de cada masa y la del total en Y basados en la explicación inicial.\n",
    "r1 = np.array([b,c])\n",
    "r2 = np.array([-d,-e])\n",
    "r3 = np.array([-f,c])\n",
    "r4 = np.array([-d,e])\n",
    "\n",
    "v1 = np.array([c,a])\n",
    "v2 = np.array([-g,-h])\n",
    "v3 = np.array([c,i])\n",
    "v4 = np.array([g,-h])\n",
    "\n",
    "#Se crean los vectores que con la información inicial de las masas\n",
    "Y = np.array([r1,v1,r2,v2,r3,v3,r4,v4])\n",
    "Yini = np.array([r1,v1,r2,v2,r3,v3,r4,v4])"
   ]
  },
  {
   "cell_type": "markdown",
   "metadata": {},
   "source": [
    "###(a)  Encuentre a con cinco cifras significativas. Piense en una función objetivo que tenga un mínimo en la condición deseada, y cuando halla reducido el intervalo de búsqueda lo suficiente piense en otra que cambie de signo en la condición deseada."
   ]
  },
  {
   "cell_type": "code",
   "execution_count": 14,
   "metadata": {
    "collapsed": false
   },
   "outputs": [
    {
     "data": {
      "text/plain": [
       "<matplotlib.collections.PathCollection at 0x7ff47b9993c8>"
      ]
     },
     "execution_count": 14,
     "metadata": {},
     "output_type": "execute_result"
    },
    {
     "data": {
      "image/png": "[encoded data removed]",
      "text/plain": [
       "<matplotlib.figure.Figure at 0x7ff47b259400>"
      ]
     },
     "metadata": {},
     "output_type": "display_data"
    }
   ],
   "source": [
    "plt.scatter(r1[0],r1[1])\n",
    "plt.scatter(r2[0],r2[1])\n",
    "plt.scatter(r3[0],r3[1])\n",
    "plt.scatter(r4[0],r4[1])"
   ]
  },
  {
   "cell_type": "code",
   "execution_count": 15,
   "metadata": {
    "collapsed": false
   },
   "outputs": [
    {
     "ename": "TypeError",
     "evalue": "'float' object is not callable",
     "output_type": "error",
     "traceback": [
      "\u001b[1;31m---------------------------------------------------------------------------\u001b[0m",
      "\u001b[1;31mTypeError\u001b[0m                                 Traceback (most recent call last)",
      "\u001b[1;32m<ipython-input-15-68f09fd69a9c>\u001b[0m in \u001b[0;36m<module>\u001b[1;34m()\u001b[0m\n\u001b[1;32m----> 1\u001b[1;33m \u001b[0mhist\u001b[0m\u001b[1;33m=\u001b[0m\u001b[0msimulacion\u001b[0m\u001b[1;33m(\u001b[0m\u001b[0mnumIter\u001b[0m\u001b[1;33m=\u001b[0m\u001b[1;36m200\u001b[0m\u001b[1;33m,\u001b[0m\u001b[0mY\u001b[0m\u001b[1;33m=\u001b[0m\u001b[0mY\u001b[0m\u001b[1;33m,\u001b[0m\u001b[0mtmax\u001b[0m\u001b[1;33m=\u001b[0m\u001b[1;36m0.5\u001b[0m\u001b[1;33m)\u001b[0m\u001b[1;33m\u001b[0m\u001b[0m\n\u001b[0m\u001b[0;32m      2\u001b[0m \u001b[0mgraficador\u001b[0m\u001b[1;33m(\u001b[0m\u001b[0mhist\u001b[0m\u001b[1;33m,\u001b[0m\u001b[0mmasa\u001b[0m\u001b[1;33m=\u001b[0m\u001b[1;36m1\u001b[0m\u001b[1;33m)\u001b[0m\u001b[1;33m\u001b[0m\u001b[0m\n\u001b[0;32m      3\u001b[0m \u001b[0mgraficador\u001b[0m\u001b[1;33m(\u001b[0m\u001b[0mhist\u001b[0m\u001b[1;33m,\u001b[0m\u001b[0mmasa\u001b[0m\u001b[1;33m=\u001b[0m\u001b[1;36m2\u001b[0m\u001b[1;33m)\u001b[0m\u001b[1;33m\u001b[0m\u001b[0m\n\u001b[0;32m      4\u001b[0m \u001b[0mgraficador\u001b[0m\u001b[1;33m(\u001b[0m\u001b[0mhist\u001b[0m\u001b[1;33m,\u001b[0m\u001b[0mmasa\u001b[0m\u001b[1;33m=\u001b[0m\u001b[1;36m3\u001b[0m\u001b[1;33m)\u001b[0m\u001b[1;33m\u001b[0m\u001b[0m\n\u001b[0;32m      5\u001b[0m \u001b[0mgraficador\u001b[0m\u001b[1;33m(\u001b[0m\u001b[0mhist\u001b[0m\u001b[1;33m,\u001b[0m\u001b[0mmasa\u001b[0m\u001b[1;33m=\u001b[0m\u001b[1;36m4\u001b[0m\u001b[1;33m)\u001b[0m\u001b[1;33m\u001b[0m\u001b[0m\n",
      "\u001b[1;32m<ipython-input-4-c2dd85f04eaf>\u001b[0m in \u001b[0;36msimulacion\u001b[1;34m(numIter, tmax, Y, **kwargs)\u001b[0m\n\u001b[0;32m      7\u001b[0m     \u001b[0mhistory\u001b[0m\u001b[1;33m=\u001b[0m\u001b[0mnp\u001b[0m\u001b[1;33m.\u001b[0m\u001b[0marray\u001b[0m\u001b[1;33m(\u001b[0m\u001b[1;33m[\u001b[0m\u001b[0mY\u001b[0m\u001b[1;33m]\u001b[0m\u001b[1;33m)\u001b[0m \u001b[1;31m#Este array contendrá la información luego de cada iteración con el fin de poder graficar.\u001b[0m\u001b[1;33m\u001b[0m\u001b[0m\n\u001b[0;32m      8\u001b[0m     \u001b[1;32mfor\u001b[0m \u001b[0miters\u001b[0m \u001b[1;32min\u001b[0m \u001b[0mrange\u001b[0m\u001b[1;33m(\u001b[0m\u001b[0mnumIter\u001b[0m\u001b[1;33m)\u001b[0m\u001b[1;33m:\u001b[0m\u001b[1;31m#Se ejecuta el método Runge-Kutta durante la cantidad de iteraciones propuestas\u001b[0m\u001b[1;33m\u001b[0m\u001b[0m\n\u001b[1;32m----> 9\u001b[1;33m         \u001b[0mrunge_kutta_orden4\u001b[0m\u001b[1;33m(\u001b[0m\u001b[0mdt\u001b[0m\u001b[1;33m,\u001b[0m\u001b[0mY\u001b[0m\u001b[1;33m)\u001b[0m\u001b[1;33m\u001b[0m\u001b[0m\n\u001b[0m\u001b[0;32m     10\u001b[0m         \u001b[0mhistory\u001b[0m\u001b[1;33m=\u001b[0m\u001b[0mnp\u001b[0m\u001b[1;33m.\u001b[0m\u001b[0mappend\u001b[0m\u001b[1;33m(\u001b[0m\u001b[0mhistory\u001b[0m\u001b[1;33m,\u001b[0m\u001b[1;33m[\u001b[0m\u001b[0mY\u001b[0m\u001b[1;33m]\u001b[0m\u001b[1;33m,\u001b[0m\u001b[0maxis\u001b[0m\u001b[1;33m=\u001b[0m\u001b[1;36m0\u001b[0m\u001b[1;33m)\u001b[0m\u001b[1;33m\u001b[0m\u001b[0m\n\u001b[0;32m     11\u001b[0m     \u001b[0mrestartY\u001b[0m\u001b[1;33m(\u001b[0m\u001b[1;33m)\u001b[0m\u001b[1;31m#Retorna el valor de Y al inicial\u001b[0m\u001b[1;33m\u001b[0m\u001b[0m\n",
      "\u001b[1;32m<ipython-input-3-ad657613f9ed>\u001b[0m in \u001b[0;36mrunge_kutta_orden4\u001b[1;34m(dt, Y)\u001b[0m\n\u001b[0;32m      2\u001b[0m \u001b[1;32mdef\u001b[0m \u001b[0mrunge_kutta_orden4\u001b[0m\u001b[1;33m(\u001b[0m\u001b[0mdt\u001b[0m\u001b[1;33m,\u001b[0m\u001b[0mY\u001b[0m\u001b[1;33m)\u001b[0m\u001b[1;33m:\u001b[0m\u001b[1;33m\u001b[0m\u001b[0m\n\u001b[0;32m      3\u001b[0m     \u001b[1;31m#Resolvemos las ecuaciones de movimiento con Runge-Kutta orden 4.\u001b[0m\u001b[1;33m\u001b[0m\u001b[1;33m\u001b[0m\u001b[0m\n\u001b[1;32m----> 4\u001b[1;33m     \u001b[0mK1\u001b[0m \u001b[1;33m=\u001b[0m \u001b[0mf\u001b[0m\u001b[1;33m(\u001b[0m\u001b[0mY\u001b[0m\u001b[1;33m)\u001b[0m\u001b[1;33m\u001b[0m\u001b[0m\n\u001b[0m\u001b[0;32m      5\u001b[0m     \u001b[0mK2\u001b[0m \u001b[1;33m=\u001b[0m \u001b[0mf\u001b[0m\u001b[1;33m(\u001b[0m\u001b[0mY\u001b[0m \u001b[1;33m+\u001b[0m \u001b[0mdt\u001b[0m\u001b[1;33m*\u001b[0m\u001b[1;33m(\u001b[0m\u001b[1;36m1.\u001b[0m\u001b[1;33m/\u001b[0m\u001b[1;36m2.\u001b[0m\u001b[1;33m*\u001b[0m\u001b[0mK1\u001b[0m\u001b[1;33m)\u001b[0m\u001b[1;33m)\u001b[0m\u001b[1;33m\u001b[0m\u001b[0m\n\u001b[0;32m      6\u001b[0m     \u001b[0mK3\u001b[0m \u001b[1;33m=\u001b[0m \u001b[0mf\u001b[0m\u001b[1;33m(\u001b[0m\u001b[0mY\u001b[0m \u001b[1;33m+\u001b[0m \u001b[0mdt\u001b[0m\u001b[1;33m*\u001b[0m\u001b[1;33m(\u001b[0m\u001b[1;36m1.\u001b[0m\u001b[1;33m/\u001b[0m\u001b[1;36m2.\u001b[0m\u001b[1;33m*\u001b[0m\u001b[0mK2\u001b[0m\u001b[1;33m)\u001b[0m\u001b[1;33m)\u001b[0m\u001b[1;33m\u001b[0m\u001b[0m\n",
      "\u001b[1;31mTypeError\u001b[0m: 'float' object is not callable"
     ]
    }
   ],
   "source": [
    "hist=simulacion(numIter=200,Y=Y,tmax=0.5)\n",
    "graficador(hist,masa=1)\n",
    "graficador(hist,masa=2)\n",
    "graficador(hist,masa=3)\n",
    "graficador(hist,masa=4)\n",
    "graficador(hist,masa=0)"
   ]
  },
  {
   "cell_type": "code",
   "execution_count": 16,
   "metadata": {
    "collapsed": false
   },
   "outputs": [
    {
     "ename": "TypeError",
     "evalue": "'float' object is not callable",
     "output_type": "error",
     "traceback": [
      "\u001b[1;31m---------------------------------------------------------------------------\u001b[0m",
      "\u001b[1;31mTypeError\u001b[0m                                 Traceback (most recent call last)",
      "\u001b[1;32m<ipython-input-16-28ac36230e51>\u001b[0m in \u001b[0;36m<module>\u001b[1;34m()\u001b[0m\n\u001b[1;32m----> 1\u001b[1;33m \u001b[0mf\u001b[0m\u001b[1;33m(\u001b[0m\u001b[0mY\u001b[0m\u001b[1;33m)\u001b[0m\u001b[1;33m\u001b[0m\u001b[0m\n\u001b[0m",
      "\u001b[1;31mTypeError\u001b[0m: 'float' object is not callable"
     ]
    }
   ],
   "source": [
    "f(Y)"
   ]
  },
  {
   "cell_type": "code",
   "execution_count": 17,
   "metadata": {
    "collapsed": false
   },
   "outputs": [
    {
     "data": {
      "text/plain": [
       "array([[ 0.3842772 ,  0.        ],\n",
       "       [ 0.        ,  0.7       ],\n",
       "       [-0.0156823 , -0.13966431],\n",
       "       [-2.01155926, -1.19817067],\n",
       "       [-0.3529126 ,  0.        ],\n",
       "       [ 0.        ,  1.63619159],\n",
       "       [-0.0156823 ,  0.13966431],\n",
       "       [ 2.01155926, -1.19817067]])"
      ]
     },
     "execution_count": 17,
     "metadata": {},
     "output_type": "execute_result"
    }
   ],
   "source": [
    "Y"
   ]
  },
  {
   "cell_type": "code",
   "execution_count": 18,
   "metadata": {
    "collapsed": false
   },
   "outputs": [
    {
     "data": {
      "text/plain": [
       "array([[  0.        ,   0.7       ],\n",
       "       [-12.36080163,   0.        ],\n",
       "       [ -2.01155926,  -1.19817067],\n",
       "       [ -1.67425243,  17.52535952],\n",
       "       [  0.        ,   1.63619159],\n",
       "       [ 15.70930648,   0.        ],\n",
       "       [  2.01155926,  -1.19817067],\n",
       "       [ -1.67425243, -17.52535952]])"
      ]
     },
     "execution_count": 18,
     "metadata": {},
     "output_type": "execute_result"
    }
   ],
   "source": [
    "info = [] #Toda la información se guarda en esta variable local, que al final del método es retornada.\n",
    "for i in range(0,len(Y),2): #Este ciclo recorre cada una de las masas.\n",
    "    v = 0\n",
    "    #Este ciclo encuentra la atracción que siente cada una de las masas efectuada por las demás.\n",
    "    for j in range(0,len(Y),2):\n",
    "        if (i != j): #Utilizamos esta condición para evitar calcular la fuerza que una masa ejerce sobre sí misma.\n",
    "            v -= ((Y[i] - Y[j]) / norm(Y[i] - Y[j])**3)\n",
    "    info.extend((Y[i+1],v))\n",
    "informacion = np.array(info)\n",
    "informacion"
   ]
  },
  {
   "cell_type": "code",
   "execution_count": 19,
   "metadata": {
    "collapsed": false
   },
   "outputs": [],
   "source": [
    "#Basados en el inciso (2) y la fuente 1 definimos la función de m*a. Que para el método Runge-Kutta sería la velocidad.\n",
    "def f(Y):\n",
    "    info = [] #Toda la información se guarda en esta variable local, que al final del método es retornada.\n",
    "    for i in range(0,len(Y),2): #Este ciclo recorre cada una de las masas.\n",
    "        v = 0\n",
    "        #Este ciclo encuentra la atracción que siente cada una de las masas efectuada por las demás.\n",
    "        for j in range(0,len(Y),2):\n",
    "            if (i != j): #Utilizamos esta condición para evitar calcular la fuerza que una masa ejerce sobre sí misma.\n",
    "                v -= ((Y[i] - Y[j]) / norm(Y[i] - Y[j])**3)\n",
    "        info.extend((Y[i+1],v))\n",
    "    return(np.array(info))"
   ]
  }
 ],
 "metadata": {
  "kernelspec": {
   "display_name": "Python 3",
   "language": "python",
   "name": "python3"
  },
  "language_info": {
   "codemirror_mode": {
    "name": "ipython",
    "version": 3
   },
   "file_extension": ".py",
   "mimetype": "text/x-python",
   "name": "python",
   "nbconvert_exporter": "python",
   "pygments_lexer": "ipython3",
   "version": "3.4.0"
  }
 },
 "nbformat": 4,
 "nbformat_minor": 0
}
