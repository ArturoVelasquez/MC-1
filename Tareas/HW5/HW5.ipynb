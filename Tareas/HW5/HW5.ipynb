{
 "cells": [
  {
   "cell_type": "code",
   "execution_count": 1,
   "metadata": {
    "collapsed": true
   },
   "outputs": [],
   "source": [
    "#Importo librerías necesarias\n",
    "import numpy as np\n",
    "import matplotlib.pyplot as plt\n",
    "%matplotlib inline"
   ]
  },
  {
   "cell_type": "markdown",
   "metadata": {},
   "source": [
    "#Cuestiones previas:\n",
    "###1. La forma de guardar la información de las masas es la siguiente:\n",
    "+ Cada una tiene dos componentes: un vector $r$ (que contiene posición en $\\hat{\\textbf{i}}$ y $\\hat{\\textbf{j}}$) y un vector $v$ (que contiene velocidad en $\\hat{\\textbf{i}}$ y $\\hat{\\textbf{j}}$).\n",
    "+ El array Y contiene la información de **todas** las masas en cuestión. El orden de la información contenida en este array es: [$r_1,v_1,r_2,v_2, \\dots ,r_n,v_n$]. Definidos $r$ y $v$ como se explicó en el punto anterior.\n",
    "\n",
    "###2. Se utilizó la siguiente fórmula para de interacción gravitacional (Asumiendo $G = 1$):\n",
    "\n",
    "$$m_i \\dfrac{d^2x}{dt^2} = - \\sum_{i \\neq j} \\dfrac{m_i m_j (x_i - x_j)}{r^3_{ij}}\\\\$$\n",
    "$$i = 1, \\dots , N$$\n",
    "\n",
    "###3. Se utilizó el método de Runge-Kutta de orden 4 para resolver las ecuaciones diferenciales de movimiento. Recordando que este se basa en que:\n",
    "\n",
    "$$\\dfrac{d}{dt} Y(t) = f(Y)$$\n",
    "\n",
    "###4. Todo lo aquí hecho se basa en la información de esta [página.](http://www14.in.tum.de/konferenzen/Jass05/courses/2/Lapshin/Lapshin_paper.pdf)"
   ]
  },
  {
   "cell_type": "code",
   "execution_count": 2,
   "metadata": {
    "collapsed": true
   },
   "outputs": [],
   "source": [
    "#Se define la función f(Y) y el método de Runge-Kutta basados en la explicación anterior y \n",
    "#en lo tomado del cuaderno de la clase de ODE\n",
    "#https://github.com/ComputoCienciasUniandes/MetodosComputacionales/blob/master/slides/2015-V/10-ODE.ipynb\n",
    "def f(Y):\n",
    "    info = []\n",
    "    for i in range(0,len(Y),2):\n",
    "        v = 0\n",
    "        for j in range(0,len(Y),2):\n",
    "            if (j!=i):\n",
    "                v += ((Y[i] - Y[j]) / np.sqrt(Y[i]**2 + Y[j]**2)**3)\n",
    "        info.extend((Y[i+1],-v))\n",
    "    return(np.array(info))\n",
    "\n",
    "def one_Kutta4_step():\n",
    "    #global t\n",
    "    global Deltat\n",
    "    global Y\n",
    "    K1 = f(Y)\n",
    "    K2 = f(Y + Deltat*(1/2.*K1))\n",
    "    K3 = f(Y + Deltat*(1./2.*K2))\n",
    "    K4 = f(Y + Deltat*K3)\n",
    "    Y += Deltat * (1/6.*K1 + 1/3. * K2 + 1/3.*K3 + 1/6.*K4)\n",
    "\n",
    "def graficador():\n",
    "    plt.figure()\n",
    "    plt.title(\"Kutta Orden 4\")\n",
    "    plt.axis('equal')\n",
    "    for i in range(0,len(Y),2):\n",
    "        plt.plot(history[:,i][:,0],history[:,i][:,1],\"o\",ms=1)\n",
    "    plt.show()"
   ]
  },
  {
   "cell_type": "markdown",
   "metadata": {},
   "source": [
    "##Punto 1) 3-Coreografía"
   ]
  },
  {
   "cell_type": "code",
   "execution_count": 3,
   "metadata": {
    "collapsed": true
   },
   "outputs": [],
   "source": [
    "#Defino las ecuaciones iniciales\n",
    "a = 0.24250109\n",
    "b = -0.0607718825\n",
    "c = 0.93240737\n",
    "d = 0.86473146\n",
    "\n",
    "#Se ordena la información de cada masa y la del total en Y basados en la explicación inicial.\n",
    "r1 = np.array([a,b])\n",
    "r2 = np.array([-a,-b])\n",
    "r3 = np.array([0,0])\n",
    "\n",
    "v1 = np.array([c,d])\n",
    "v2 = np.array([c,d])\n",
    "v3 = np.array([-2*c,-2*d])\n",
    "\n",
    "Y = np.array([r1,v1,r2,v2,r3,v3])\n",
    "\n",
    "#### Pruebas - ignorar -\n",
    "#y1 = np.array([a,b,c,d])\n",
    "#\n",
    "#y2 = np.array([-a,-b,c,d])\n",
    "#\n",
    "#y3 = np.array([0,0,-2*c,-2*d])\n",
    "#\n",
    "#Y = np.array([y1,y2,y3])"
   ]
  },
  {
   "cell_type": "code",
   "execution_count": 4,
   "metadata": {
    "collapsed": false
   },
   "outputs": [
    {
     "data": {
      "image/png": "[encoded data removed]",
      "text/plain": [
       "<matplotlib.figure.Figure at 0x7fa3da7007f0>"
      ]
     },
     "metadata": {},
     "output_type": "display_data"
    }
   ],
   "source": [
    "chosenstep=one_Kutta4_step\n",
    "numIter=100\n",
    "tmax=2*np.pi\n",
    "Deltat=tmax/numIter\n",
    "history=np.array([[Y[0],Y[1],Y[2],Y[3],Y[4],Y[5]]])\n",
    "for __ in range(numIter):\n",
    "    chosenstep()\n",
    "    history=np.append(history,[[Y[0],Y[1],Y[2],Y[3],Y[4],Y[5]]],axis=0)\n",
    "graficador()"
   ]
  }
 ],
 "metadata": {
  "kernelspec": {
   "display_name": "Python 3",
   "language": "python",
   "name": "python3"
  },
  "language_info": {
   "codemirror_mode": {
    "name": "ipython",
    "version": 3
   },
   "file_extension": ".py",
   "mimetype": "text/x-python",
   "name": "python",
   "nbconvert_exporter": "python",
   "pygments_lexer": "ipython3",
   "version": "3.4.0"
  }
 },
 "nbformat": 4,
 "nbformat_minor": 0
}
