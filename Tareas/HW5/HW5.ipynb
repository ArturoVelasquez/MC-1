{
 "cells": [
  {
   "cell_type": "code",
   "execution_count": 1,
   "metadata": {
    "collapsed": true
   },
   "outputs": [],
   "source": [
    "#Importo librerías necesarias\n",
    "import numpy as np\n",
    "from numpy.linalg import norm\n",
    "import matplotlib.pyplot as plt\n",
    "%matplotlib inline"
   ]
  },
  {
   "cell_type": "markdown",
   "metadata": {},
   "source": [
    "#Cuestiones previas:\n",
    "###1. La forma de guardar la información de las masas es la siguiente:\n",
    "+ Cada una tiene dos componentes: un vector $r$ (que contiene posición en $\\hat{\\textbf{i}}$ y $\\hat{\\textbf{j}}$) y un vector $v$ (que contiene velocidad en $\\hat{\\textbf{i}}$ y $\\hat{\\textbf{j}}$).\n",
    "+ El array Y contiene la información de **todas** las masas en cuestión. El orden de la información contenida en este array es: [$r_1,v_1,r_2,v_2, \\dots ,r_n,v_n$]. Definidos $r$ y $v$ como se explicó en el punto anterior.\n",
    "\n",
    "###2. Utilizamos la siguiente fórmula para definir la interacción gravitacional (Asumiendo $G = 1$):\n",
    "\n",
    "$$\\\\ m_i \\dfrac{d^2x}{dt^2} = - \\sum_{i \\neq j} \\dfrac{m_i m_j (x_i - x_j)}{r^3_{ij}}\\\\$$\n",
    "$$i = 1, \\dots , N$$\n",
    "\n",
    "###3. Utilizamos el método de Runge-Kutta de orden 4 para resolver las ecuaciones diferenciales de movimiento. Recordando que este se basa en que:\n",
    "\n",
    "$$\\dfrac{d}{dt} Y(t) = f(Y)$$\n",
    "\n",
    "###4. Todo lo aquí hecho se basa en la información tomada de las fuentes: [1](http://www14.in.tum.de/konferenzen/Jass05/courses/2/Lapshin/Lapshin_paper.pdf), [2](http://radio.astro.gla.ac.uk/a1dynamics/pw/code/simple-3-body.py), [3](https://github.com/ComputoCienciasUniandes/MetodosComputacionales/blob/master/slides/2015-V/10-ODE.ipynb).\n",
    "\n",
    "###5. A conitnuación se definen las funciones a utilizar:"
   ]
  },
  {
   "cell_type": "code",
   "execution_count": 2,
   "metadata": {
    "collapsed": true
   },
   "outputs": [],
   "source": [
    "#Basados en el inciso (2) definimos la función de m*a. Que para el método Runge-Kutta sería la velocidad.\n",
    "def f(Y):\n",
    "    info = [] #Toda la información se guarda en esta variable local, que al final del método es retornada.\n",
    "    for i in range(0,len(Y),2): #Este ciclo recorre cada una de las masas.\n",
    "        v = 0\n",
    "        #Este ciclo encuentra la atracción que siente cada una de las masas efectuada por las demás.\n",
    "        for j in range(0,len(Y),2):\n",
    "            if (i != j): #Utilizamos esta condición para evitar calcular la fuerza que una masa ejerce sobre sí misma.\n",
    "                v -= ((Y[i] - Y[j]) / norm(Y[i] - Y[j])**3)\n",
    "        info.extend((Y[i+1],v))\n",
    "    return(np.array(info))"
   ]
  },
  {
   "cell_type": "code",
   "execution_count": 28,
   "metadata": {
    "collapsed": false
   },
   "outputs": [],
   "source": [
    "#Basados en las fuentes 2 y 3 implementamos el método de Runge-Kutta de orden 4.\n",
    "def runge_kutta_orden4(dt,Y):\n",
    "    #Resolvemos las ecuaciones de movimiento con Runge-Kutta orden 4.\n",
    "    K1 = dt*f(Y)\n",
    "    K2 = dt*f(Y + (1/2.*K1))\n",
    "    K3 = dt*f(Y + (1./2.*K2))\n",
    "    K4 = dt*f(Y + K3)\n",
    "    dy = 1/6.*K1 + 1/3.*K2 + 1/3.*K3 + 1/6.*K4\n",
    "    #Asignamos los nuevos valores encontrados al vector inicial.\n",
    "    Y += dy"
   ]
  },
  {
   "cell_type": "code",
   "execution_count": null,
   "metadata": {
    "collapsed": true
   },
   "outputs": [],
   "source": [
    "#Debo re-implementar Runge-Kutta para poder ponerlo como lo quiere el profesorrr\n",
    "chosenstep=one_Kutta4_step\n",
    "numIter=100\n",
    "Y=np.array([1.,0.,0.,1.])\n",
    "tmax=2*np.pi\n",
    "t=0.\n",
    "Deltat=tmax/numIter\n",
    "history=np.array([[t,Y[0],Y[1],Y[2],Y[3]]])\n",
    "def one_Kutta4_step():\n",
    "    global t\n",
    "    global Deltat\n",
    "    global Y\n",
    "    K1 = f(Y)\n",
    "    K2 = f(Y + Deltat*(1./2.*K1))\n",
    "    K3 = f(Y + Deltat*(1./2.*K2))\n",
    "    K4 = f(Y + Deltat*K3)\n",
    "    Y+= Deltat * (1/6.*K1 + 1/3. * K2 + 1/3.*K3 + 1/6.*K4)\n",
    "    t+= Deltat"
   ]
  },
  {
   "cell_type": "code",
   "execution_count": 29,
   "metadata": {
    "collapsed": false
   },
   "outputs": [],
   "source": [
    "#Definimos una función que llama varias veces el método de Runge-Kutta para efectuar la simulación.\n",
    "def simulacion(numIter=100,periodo=1,Y=-1,**kwargs):\n",
    "    if ((len(Y)%2) != 0):\n",
    "        #Arroja error si no se pasa un Y, o el que se pasa no tiene el formato adecuado\n",
    "        raise TypeError(\"Introduzca un Y válido\")\n",
    "    dt = periodo*0.01 #Se cuadra la escala de tiempo para que 1 periodo se ajuste al dt del método.\n",
    "    history=np.array([Y]) #Este array contendrá la información luego de cada iteración con el fin de poder graficar.\n",
    "    for iters in range(numIter):#Se ejecuta el método Runge-Kutta durante la cantidad de iteraciones propuestas\n",
    "        runge_kutta_orden4(dt,Y)\n",
    "        history=np.append(history,[Y],axis=0)\n",
    "    return (history)"
   ]
  },
  {
   "cell_type": "code",
   "execution_count": 30,
   "metadata": {
    "collapsed": false
   },
   "outputs": [],
   "source": [
    "#Definimos una función que grafica basados en los datos arrojados por la simulación\n",
    "#Se pasa por parámetro la historia de la simulación y la trayectoria de la masa que se quiere graficar\n",
    "#Si no se pasa ninguna masa por parámetro (o se iguala a 0) muestra la trayectoria de todas las masas\n",
    "def graficador(history,masa=0,**args):\n",
    "    if (masa == 0):\n",
    "        plt.figure(figsize=(14,4))\n",
    "        plt.title(\"Kutta Orden 4\")\n",
    "        plt.axis('equal')\n",
    "        #plt.xlim(-0.4,0.4)\n",
    "        #plt.ylim(-0.1,0.1)\n",
    "        for i in range(0,len(Y),2):\n",
    "            plt.scatter(history[:,i][:,0],history[:,i][:,1],s=1)\n",
    "            plt.scatter(history[:,i][:,0][0],history[:,i][:,1][0],s=30,label=\"Inicio\",color='blue')\n",
    "            #plt.scatter(history[:,i][:,0][int(len(history)-1)],history[:,i][:,1][int(len(history)-1)],s=30,label=\"Fin\",color='red')\n",
    "        plt.legend(loc=0)\n",
    "        plt.xlabel('Posición $x$')\n",
    "        plt.ylabel('Posición $y$')\n",
    "        plt.title('Trayectorias de las masas',fontsize=15)\n",
    "        plt.show()\n",
    "    else:\n",
    "        plt.figure(figsize=(14,4))\n",
    "        plt.title(\"Kutta Orden 4\")\n",
    "        plt.axis('equal')\n",
    "        #plt.xlim(-0.4,0.4)\n",
    "        #plt.ylim(-0.1,0.1)\n",
    "        plt.scatter(history[:,int((masa-1)*2)][:,0],history[:,int((masa-1)*2)][:,1],s=1)\n",
    "        plt.scatter(history[:,int((masa-1)*2)][:,0][0],history[:,int((masa-1)*2)][:,1][0],s=30,label=\"Inicio\",color='blue')\n",
    "        plt.scatter(history[:,int((masa-1)*2)][:,0][int(len(history)-1)],history[:,int((masa-1)*2)][:,1][int(len(history)-1)],s=30,label=\"Fin\",color='red')\n",
    "        plt.legend(loc=0)\n",
    "        plt.xlabel('Posición $x$')\n",
    "        plt.ylabel('Posición $y$')\n",
    "        plt.title('Trayectoria de $m_{%d}$'%masa,fontsize=15)\n",
    "        plt.show()"
   ]
  },
  {
   "cell_type": "markdown",
   "metadata": {},
   "source": [
    "##Punto 1) 3-Coreografía"
   ]
  },
  {
   "cell_type": "code",
   "execution_count": 97,
   "metadata": {
    "collapsed": false
   },
   "outputs": [],
   "source": [
    "#Defino las ecuaciones iniciales\n",
    "a = 0.24250109\n",
    "b = -0.0607718825\n",
    "c = 0.93240737\n",
    "d = 0.86473146\n",
    "\n",
    "#Se ordena la información de cada masa y la del total en Y basados en la explicación inicial.\n",
    "r1 = np.array([a,b])\n",
    "r2 = np.array([-a,-b])\n",
    "r3 = np.array([0,0])\n",
    "\n",
    "v1 = np.array([c,d])\n",
    "v2 = np.array([c,d])\n",
    "v3 = np.array([-2*c,-2*d])\n",
    "\n",
    "Y = np.array([r1,v1,r2,v2,r3,v3])"
   ]
  },
  {
   "cell_type": "code",
   "execution_count": 86,
   "metadata": {
    "collapsed": false
   },
   "outputs": [],
   "source": [
    "history=simulacion(numIter=100,Y=Y,periodo=0.8)"
   ]
  },
  {
   "cell_type": "code",
   "execution_count": 87,
   "metadata": {
    "collapsed": false
   },
   "outputs": [
    {
     "data": {
      "image/png": "[encoded data removed]",
      "text/plain": [
       "<matplotlib.figure.Figure at 0x7f928c655780>"
      ]
     },
     "metadata": {},
     "output_type": "display_data"
    },
    {
     "data": {
      "image/png": "[encoded data removed]",
      "text/plain": [
       "<matplotlib.figure.Figure at 0x7f928c6f95c0>"
      ]
     },
     "metadata": {},
     "output_type": "display_data"
    },
    {
     "data": {
      "image/png": "[encoded data removed]",
      "text/plain": [
       "<matplotlib.figure.Figure at 0x7f928c58eac8>"
      ]
     },
     "metadata": {},
     "output_type": "display_data"
    },
    {
     "data": {
      "image/png": "[encoded data removed]",
      "text/plain": [
       "<matplotlib.figure.Figure at 0x7f928ca04c88>"
      ]
     },
     "metadata": {},
     "output_type": "display_data"
    }
   ],
   "source": [
    "lalala = 1\n",
    "graficador(history,lalala)\n",
    "\n",
    "lalala = 2\n",
    "graficador(history,lalala)\n",
    "\n",
    "lalala = 3\n",
    "graficador(history,lalala)\n",
    "\n",
    "lalala = 0\n",
    "graficador(history,lalala)"
   ]
  },
  {
   "cell_type": "code",
   "execution_count": 98,
   "metadata": {
    "collapsed": false
   },
   "outputs": [],
   "source": [
    "rango = np.linspace(0.79,0.81,100)"
   ]
  },
  {
   "cell_type": "code",
   "execution_count": 102,
   "metadata": {
    "collapsed": false
   },
   "outputs": [
    {
     "name": "stdout",
     "output_type": "stream",
     "text": [
      "[ 0.24250109 -0.06077188]\n",
      "[ 0.24181623 -0.06139279]\n",
      "\n",
      "[ 0.24250109 -0.06077188]\n",
      "[ 0.24200704 -0.06121869]\n",
      "\n",
      "[ 0.24250109 -0.06077188]\n",
      "[ 0.24219705 -0.06104439]\n",
      "\n",
      "[ 0.24250109 -0.06077188]\n",
      "[ 0.24238626 -0.06086989]\n",
      "\n",
      "[ 0.24250109 -0.06077188]\n",
      "[ 0.24257469 -0.06069518]\n",
      "\n",
      "[ 0.24250109 -0.06077188]\n",
      "[ 0.24276232 -0.06052028]\n",
      "\n",
      "[ 0.24250109 -0.06077188]\n",
      "[ 0.24294916 -0.06034519]\n",
      "\n",
      "[ 0.24250109 -0.06077188]\n",
      "[ 0.24313522 -0.0601699 ]\n",
      "\n",
      "[ 0.24250109 -0.06077188]\n",
      "[ 0.24332049 -0.05999442]\n",
      "\n",
      "[ 0.24250109 -0.06077188]\n",
      "[ 0.24350497 -0.05981875]\n",
      "\n",
      "[ 0.24250109 -0.06077188]\n",
      "[ 0.24368867 -0.0596429 ]\n",
      "\n",
      "[ 0.24250109 -0.06077188]\n",
      "[ 0.24387159 -0.05946685]\n",
      "\n",
      "[ 0.24250109 -0.06077188]\n",
      "[ 0.24405373 -0.05929063]\n",
      "\n",
      "[ 0.24250109 -0.06077188]\n",
      "[ 0.2442351  -0.05911423]\n",
      "\n",
      "[ 0.24250109 -0.06077188]\n",
      "[ 0.24441569 -0.05893764]\n",
      "\n",
      "[ 0.24250109 -0.06077188]\n",
      "[ 0.2445955  -0.05876088]\n",
      "\n",
      "[ 0.24250109 -0.06077188]\n",
      "[ 0.24477454 -0.05858395]\n",
      "\n",
      "[ 0.24250109 -0.06077188]\n",
      "[ 0.24495282 -0.05840684]\n",
      "\n",
      "[ 0.24250109 -0.06077188]\n",
      "[ 0.24513032 -0.05822956]\n",
      "\n",
      "[ 0.24250109 -0.06077188]\n",
      "[ 0.24530706 -0.05805212]\n",
      "\n",
      "[ 0.24250109 -0.06077188]\n",
      "[ 0.24548303 -0.0578745 ]\n",
      "\n",
      "[ 0.24250109 -0.06077188]\n",
      "[ 0.24565823 -0.05769672]\n",
      "\n",
      "[ 0.24250109 -0.06077188]\n",
      "[ 0.24583268 -0.05751878]\n",
      "\n",
      "[ 0.24250109 -0.06077188]\n",
      "[ 0.24600636 -0.05734068]\n",
      "\n",
      "[ 0.24250109 -0.06077188]\n",
      "[ 0.24617929 -0.05716241]\n",
      "\n",
      "[ 0.24250109 -0.06077188]\n",
      "[ 0.24635146 -0.05698399]\n",
      "\n",
      "[ 0.24250109 -0.06077188]\n",
      "[ 0.24652287 -0.05680542]\n",
      "\n",
      "[ 0.24250109 -0.06077188]\n",
      "[ 0.24669353 -0.05662668]\n",
      "\n",
      "[ 0.24250109 -0.06077188]\n",
      "[ 0.24686344 -0.0564478 ]\n",
      "\n",
      "[ 0.24250109 -0.06077188]\n",
      "[ 0.2470326  -0.05626877]\n",
      "\n",
      "[ 0.24250109 -0.06077188]\n",
      "[ 0.24720102 -0.05608959]\n",
      "\n",
      "[ 0.24250109 -0.06077188]\n",
      "[ 0.24736868 -0.05591026]\n",
      "\n",
      "[ 0.24250109 -0.06077188]\n",
      "[ 0.2475356  -0.05573078]\n",
      "\n",
      "[ 0.24250109 -0.06077188]\n",
      "[ 0.24770178 -0.05555117]\n",
      "\n",
      "[ 0.24250109 -0.06077188]\n",
      "[ 0.24786721 -0.05537141]\n",
      "\n",
      "[ 0.24250109 -0.06077188]\n",
      "[ 0.24803191 -0.05519151]\n",
      "\n",
      "[ 0.24250109 -0.06077188]\n",
      "[ 0.24819587 -0.05501147]\n",
      "\n",
      "[ 0.24250109 -0.06077188]\n",
      "[ 0.24835909 -0.05483129]\n",
      "\n",
      "[ 0.24250109 -0.06077188]\n",
      "[ 0.24852158 -0.05465099]\n",
      "\n",
      "[ 0.24250109 -0.06077188]\n",
      "[ 0.24868333 -0.05447054]\n",
      "\n",
      "[ 0.24250109 -0.06077188]\n",
      "[ 0.24884436 -0.05428997]\n",
      "\n",
      "[ 0.24250109 -0.06077188]\n",
      "[ 0.24900465 -0.05410926]\n",
      "\n",
      "[ 0.24250109 -0.06077188]\n",
      "[ 0.24916422 -0.05392843]\n",
      "\n",
      "[ 0.24250109 -0.06077188]\n",
      "[ 0.24932306 -0.05374747]\n",
      "\n",
      "[ 0.24250109 -0.06077188]\n",
      "[ 0.24948117 -0.05356638]\n",
      "\n",
      "[ 0.24250109 -0.06077188]\n",
      "[ 0.24963857 -0.05338517]\n",
      "\n",
      "[ 0.24250109 -0.06077188]\n",
      "[ 0.24979524 -0.05320384]\n",
      "\n",
      "[ 0.24250109 -0.06077188]\n",
      "[ 0.24995119 -0.05302238]\n",
      "\n",
      "[ 0.24250109 -0.06077188]\n",
      "[ 0.25010643 -0.05284081]\n",
      "\n",
      "[ 0.24250109 -0.06077188]\n",
      "[ 0.25026095 -0.05265912]\n",
      "\n",
      "[ 0.24250109 -0.06077188]\n",
      "[ 0.25041475 -0.05247731]\n",
      "\n",
      "[ 0.24250109 -0.06077188]\n",
      "[ 0.25056784 -0.05229539]\n",
      "\n",
      "[ 0.24250109 -0.06077188]\n",
      "[ 0.25072022 -0.05211335]\n",
      "\n",
      "[ 0.24250109 -0.06077188]\n",
      "[ 0.2508719  -0.05193121]\n",
      "\n",
      "[ 0.24250109 -0.06077188]\n",
      "[ 0.25102286 -0.05174895]\n",
      "\n",
      "[ 0.24250109 -0.06077188]\n",
      "[ 0.25117312 -0.05156658]\n",
      "\n",
      "[ 0.24250109 -0.06077188]\n",
      "[ 0.25132267 -0.0513841 ]\n",
      "\n",
      "[ 0.24250109 -0.06077188]\n",
      "[ 0.25147152 -0.05120152]\n",
      "\n",
      "[ 0.24250109 -0.06077188]\n",
      "[ 0.25161967 -0.05101883]\n",
      "\n",
      "[ 0.24250109 -0.06077188]\n",
      "[ 0.25176712 -0.05083604]\n",
      "\n",
      "[ 0.24250109 -0.06077188]\n",
      "[ 0.25191387 -0.05065315]\n",
      "\n",
      "[ 0.24250109 -0.06077188]\n",
      "[ 0.25205993 -0.05047015]\n",
      "\n",
      "[ 0.24250109 -0.06077188]\n",
      "[ 0.25220529 -0.05028706]\n",
      "\n",
      "[ 0.24250109 -0.06077188]\n",
      "[ 0.25234996 -0.05010387]\n",
      "\n",
      "[ 0.24250109 -0.06077188]\n",
      "[ 0.25249393 -0.04992058]\n",
      "\n",
      "[ 0.24250109 -0.06077188]\n",
      "[ 0.25263722 -0.04973719]\n",
      "\n",
      "[ 0.24250109 -0.06077188]\n",
      "[ 0.25277982 -0.04955371]\n",
      "\n",
      "[ 0.24250109 -0.06077188]\n",
      "[ 0.25292173 -0.04937014]\n",
      "\n",
      "[ 0.24250109 -0.06077188]\n",
      "[ 0.25306296 -0.04918647]\n",
      "\n",
      "[ 0.24250109 -0.06077188]\n",
      "[ 0.2532035  -0.04900271]\n",
      "\n",
      "[ 0.24250109 -0.06077188]\n",
      "[ 0.25334336 -0.04881887]\n",
      "\n",
      "[ 0.24250109 -0.06077188]\n",
      "[ 0.25348255 -0.04863493]\n",
      "\n",
      "[ 0.24250109 -0.06077188]\n",
      "[ 0.25362105 -0.04845091]\n",
      "\n",
      "[ 0.24250109 -0.06077188]\n",
      "[ 0.25375888 -0.0482668 ]\n",
      "\n",
      "[ 0.24250109 -0.06077188]\n",
      "[ 0.25389603 -0.04808261]\n",
      "\n",
      "[ 0.24250109 -0.06077188]\n",
      "[ 0.2540325  -0.04789833]\n",
      "\n",
      "[ 0.24250109 -0.06077188]\n",
      "[ 0.25416831 -0.04771397]\n",
      "\n",
      "[ 0.24250109 -0.06077188]\n",
      "[ 0.25430344 -0.04752953]\n",
      "\n",
      "[ 0.24250109 -0.06077188]\n",
      "[ 0.25443791 -0.04734501]\n",
      "\n",
      "[ 0.24250109 -0.06077188]\n",
      "[ 0.25457171 -0.04716041]\n",
      "\n",
      "[ 0.24250109 -0.06077188]\n",
      "[ 0.25470484 -0.04697573]\n",
      "\n",
      "[ 0.24250109 -0.06077188]\n",
      "[ 0.2548373  -0.04679097]\n",
      "\n",
      "[ 0.24250109 -0.06077188]\n",
      "[ 0.25496911 -0.04660614]\n",
      "\n",
      "[ 0.24250109 -0.06077188]\n",
      "[ 0.25510025 -0.04642124]\n",
      "\n",
      "[ 0.24250109 -0.06077188]\n",
      "[ 0.25523073 -0.04623626]\n",
      "\n",
      "[ 0.24250109 -0.06077188]\n",
      "[ 0.25536056 -0.0460512 ]\n",
      "\n",
      "[ 0.24250109 -0.06077188]\n",
      "[ 0.25548972 -0.04586608]\n",
      "\n",
      "[ 0.24250109 -0.06077188]\n",
      "[ 0.25561824 -0.04568088]\n",
      "\n",
      "[ 0.24250109 -0.06077188]\n",
      "[ 0.25574609 -0.04549562]\n",
      "\n",
      "[ 0.24250109 -0.06077188]\n",
      "[ 0.2558733  -0.04531028]\n",
      "\n",
      "[ 0.24250109 -0.06077188]\n",
      "[ 0.25599986 -0.04512488]\n",
      "\n",
      "[ 0.24250109 -0.06077188]\n",
      "[ 0.25612576 -0.04493942]\n",
      "\n",
      "[ 0.24250109 -0.06077188]\n",
      "[ 0.25625102 -0.04475388]\n",
      "\n",
      "[ 0.24250109 -0.06077188]\n",
      "[ 0.25637563 -0.04456829]\n",
      "\n",
      "[ 0.24250109 -0.06077188]\n",
      "[ 0.2564996  -0.04438262]\n",
      "\n",
      "[ 0.24250109 -0.06077188]\n",
      "[ 0.25662292 -0.0441969 ]\n",
      "\n",
      "[ 0.24250109 -0.06077188]\n",
      "[ 0.2567456  -0.04401111]\n",
      "\n",
      "[ 0.24250109 -0.06077188]\n",
      "[ 0.25686764 -0.04382527]\n",
      "\n",
      "[ 0.24250109 -0.06077188]\n",
      "[ 0.25698905 -0.04363936]\n",
      "\n",
      "[ 0.24250109 -0.06077188]\n",
      "[ 0.25710981 -0.04345339]\n",
      "\n"
     ]
    }
   ],
   "source": [
    "for i in rango:\n",
    "    Y = np.array([r1,v1,r2,v2,r3,v3])\n",
    "    history=simulacion(numIter=100,Y=Y,periodo=i)\n",
    "    inicio = np.array([history[:,0][:,0][0],history[:,0][:,1][0]])\n",
    "    fin = np.array([history[:,0][:,0][int(len(history)-1)],history[:,0][:,1][int(len(history)-1)]])\n",
    "    print(inicio)\n",
    "    print(fin)\n",
    "    print(\"\")\n",
    "    \n",
    "history=simulacion(numIter=100,Y=Y,periodo=0.5)\n",
    "inicio = np.array([history[:,0][:,0][0],history[:,0][:,1][0]])\n",
    "fin = np.array([history[:,0][:,0][int(len(history)-1)],history[:,0][:,1][int(len(history)-1)]])"
   ]
  },
  {
   "cell_type": "code",
   "execution_count": 33,
   "metadata": {
    "collapsed": false
   },
   "outputs": [
    {
     "data": {
      "image/png": "[encoded data removed]",
      "text/plain": [
       "<matplotlib.figure.Figure at 0x7f52240ff2e8>"
      ]
     },
     "metadata": {},
     "output_type": "display_data"
    }
   ],
   "source": [
    "import matplotlib.animation as animation\n",
    "\n",
    "def update_line(num, data, line):\n",
    "    line.set_data(data[...,:num])\n",
    "    return line,\n",
    "\n",
    "fig1 = plt.figure()\n",
    "\n",
    "data = np.random.rand(2, 25)\n",
    "l, = plt.plot([], [], 'r-')\n",
    "plt.xlim(0, 1)\n",
    "plt.ylim(0, 1)\n",
    "plt.xlabel('x')\n",
    "plt.title('test')\n",
    "line_ani = animation.FuncAnimation(fig1, update_line, 25, fargs=(data, l),\n",
    "    interval=50, blit=True)"
   ]
  },
  {
   "cell_type": "code",
   "execution_count": 36,
   "metadata": {
    "collapsed": false
   },
   "outputs": [
    {
     "name": "stderr",
     "output_type": "stream",
     "text": [
      "/usr/local/lib/python3.4/dist-packages/matplotlib/animation.py:742: UserWarning: MovieWriter ffmpeg unavailable\n",
      "  warnings.warn(\"MovieWriter %s unavailable\" % writer)\n"
     ]
    },
    {
     "data": {
      "image/png": "[encoded data removed]",
      "text/plain": [
       "<matplotlib.figure.Figure at 0x7f521e7486a0>"
      ]
     },
     "metadata": {},
     "output_type": "display_data"
    },
    {
     "data": {
      "image/png": "[encoded data removed]",
      "text/plain": [
       "<matplotlib.figure.Figure at 0x7f521e6cfe48>"
      ]
     },
     "metadata": {},
     "output_type": "display_data"
    }
   ],
   "source": [
    "import numpy as np\n",
    "import matplotlib.pyplot as plt\n",
    "import matplotlib.animation as animation\n",
    "\n",
    "def update_line(num, data, line):\n",
    "    line.set_data(data[...,:num])\n",
    "    return line,\n",
    "\n",
    "fig1 = plt.figure()\n",
    "\n",
    "data = np.random.rand(2, 25)\n",
    "l, = plt.plot([], [], 'r-')\n",
    "plt.xlim(0, 1)\n",
    "plt.ylim(0, 1)\n",
    "plt.xlabel('x')\n",
    "plt.title('test')\n",
    "line_ani = animation.FuncAnimation(fig1, update_line, 25, fargs=(data, l),\n",
    "    interval=50, blit=True)\n",
    "line_ani.save('lines.mp4')\n",
    "\n",
    "fig2 = plt.figure()\n",
    "\n",
    "x = np.arange(-9, 10)\n",
    "y = np.arange(-9, 10).reshape(-1, 1)\n",
    "base = np.hypot(x, y)\n",
    "ims = []\n",
    "for add in np.arange(15):\n",
    "    ims.append((plt.pcolor(x, y, base + add, norm=plt.Normalize(0, 30)),))\n",
    "\n",
    "im_ani = animation.ArtistAnimation(fig2, ims, interval=50, repeat_delay=3000,\n",
    "    blit=True)\n",
    "#im_ani.save('im.mp4', metadata={'artist':'Guido'})\n",
    "\n",
    "plt.show()"
   ]
  },
  {
   "cell_type": "code",
   "execution_count": 35,
   "metadata": {
    "collapsed": false
   },
   "outputs": [
    {
     "data": {
      "image/png": "[encoded data removed]",
      "text/plain": [
       "<matplotlib.figure.Figure at 0x7f522403b080>"
      ]
     },
     "metadata": {},
     "output_type": "display_data"
    }
   ],
   "source": [
    "def data_gen():\n",
    "    t = data_gen.t\n",
    "    cnt = 0\n",
    "    while cnt < 1000:\n",
    "        cnt+=1\n",
    "        t += 0.05\n",
    "        yield t, np.sin(2*np.pi*t) * np.exp(-t/10.)\n",
    "data_gen.t = 0\n",
    "\n",
    "fig, ax = plt.subplots()\n",
    "line, = ax.plot([], [], lw=2)\n",
    "ax.set_ylim(-1.1, 1.1)\n",
    "ax.set_xlim(0, 5)\n",
    "ax.grid()\n",
    "xdata, ydata = [], []\n",
    "def run(data):\n",
    "    # update the data\n",
    "    t,y = data\n",
    "    xdata.append(t)\n",
    "    ydata.append(y)\n",
    "    xmin, xmax = ax.get_xlim()\n",
    "\n",
    "    if t >= xmax:\n",
    "        ax.set_xlim(xmin, 2*xmax)\n",
    "        ax.figure.canvas.draw()\n",
    "    line.set_data(xdata, ydata)\n",
    "\n",
    "    return line,\n",
    "\n",
    "ani = animation.FuncAnimation(fig, run, data_gen, blit=True, interval=10,\n",
    "    repeat=False)\n",
    "plt.show()"
   ]
  },
  {
   "cell_type": "code",
   "execution_count": 37,
   "metadata": {
    "collapsed": false
   },
   "outputs": [
    {
     "data": {
      "text/plain": [
       "14.0"
      ]
     },
     "execution_count": 37,
     "metadata": {},
     "output_type": "execute_result"
    }
   ],
   "source": [
    "4*3.5"
   ]
  },
  {
   "cell_type": "code",
   "execution_count": 120,
   "metadata": {
    "collapsed": false
   },
   "outputs": [
    {
     "data": {
      "text/plain": [
       "101"
      ]
     },
     "execution_count": 120,
     "metadata": {},
     "output_type": "execute_result"
    }
   ],
   "source": [
    "len(history)"
   ]
  },
  {
   "cell_type": "code",
   "execution_count": 121,
   "metadata": {
    "collapsed": false
   },
   "outputs": [
    {
     "data": {
      "text/plain": [
       "array([[[ 0.24250109, -0.06077188],\n",
       "        [ 0.93240737,  0.86473146],\n",
       "        [-0.24250109,  0.06077188],\n",
       "        [ 0.93240737,  0.86473146],\n",
       "        [ 0.        ,  0.        ],\n",
       "        [-1.86481474, -1.72946292]],\n",
       "\n",
       "       [[ 0.24521195, -0.05815696],\n",
       "        [ 0.87514827,  0.87817817],\n",
       "        [-0.23961563,  0.06334298],\n",
       "        [ 0.99154395,  0.848914  ],\n",
       "        [-0.00559632, -0.00518602],\n",
       "        [-1.86669222, -1.72709217]],\n",
       "\n",
       "       [[ 0.24775386, -0.05550491],\n",
       "        [ 0.81976845,  0.88952513],\n",
       "        [-0.23654998,  0.06586271],\n",
       "        [ 1.05252879,  0.83043521],\n",
       "        [-0.01120388, -0.01035779],\n",
       "        [-1.87229724, -1.71996034]],\n",
       "\n",
       "       ..., \n",
       "       [[-0.05853542, -0.05004535],\n",
       "        [-2.03264514, -1.47094628],\n",
       "        [ 0.26283269, -0.03313447],\n",
       "        [ 0.43285984,  0.93091771],\n",
       "        [-0.20429727,  0.08317981],\n",
       "        [ 1.5997853 ,  0.54002857]],\n",
       "\n",
       "       [[-0.06467536, -0.05437503],\n",
       "        [-2.06069625, -1.41449708],\n",
       "        [ 0.26406964, -0.03033954],\n",
       "        [ 0.39197038,  0.93229074],\n",
       "        [-0.19939428,  0.08471457],\n",
       "        [ 1.66872587,  0.48220633]],\n",
       "\n",
       "       [[-0.07089951, -0.05852624],\n",
       "        [-2.08865902, -1.3519653 ],\n",
       "        [ 0.26518565, -0.02754113],\n",
       "        [ 0.35221357,  0.93326023],\n",
       "        [-0.19428614,  0.08606737],\n",
       "        [ 1.73644546,  0.41870507]]])"
      ]
     },
     "execution_count": 121,
     "metadata": {},
     "output_type": "execute_result"
    }
   ],
   "source": [
    "history[:,0]"
   ]
  },
  {
   "cell_type": "code",
   "execution_count": 95,
   "metadata": {
    "collapsed": false
   },
   "outputs": [
    {
     "name": "stdout",
     "output_type": "stream",
     "text": [
      "0.79\n",
      "0.790202020202\n",
      "0.790404040404\n",
      "0.790606060606\n",
      "0.790808080808\n",
      "0.79101010101\n",
      "0.791212121212\n",
      "0.791414141414\n",
      "0.791616161616\n",
      "0.791818181818\n",
      "0.79202020202\n",
      "0.792222222222\n",
      "0.792424242424\n",
      "0.792626262626\n",
      "0.792828282828\n",
      "0.79303030303\n",
      "0.793232323232\n",
      "0.793434343434\n",
      "0.793636363636\n",
      "0.793838383838\n",
      "0.79404040404\n",
      "0.794242424242\n",
      "0.794444444444\n",
      "0.794646464646\n",
      "0.794848484848\n",
      "0.795050505051\n",
      "0.795252525253\n",
      "0.795454545455\n",
      "0.795656565657\n",
      "0.795858585859\n",
      "0.796060606061\n",
      "0.796262626263\n",
      "0.796464646465\n",
      "0.796666666667\n",
      "0.796868686869\n",
      "0.797070707071\n",
      "0.797272727273\n",
      "0.797474747475\n",
      "0.797676767677\n",
      "0.797878787879\n",
      "0.798080808081\n",
      "0.798282828283\n",
      "0.798484848485\n",
      "0.798686868687\n",
      "0.798888888889\n",
      "0.799090909091\n",
      "0.799292929293\n",
      "0.799494949495\n",
      "0.799696969697\n",
      "0.799898989899\n",
      "0.800101010101\n",
      "0.800303030303\n",
      "0.800505050505\n",
      "0.800707070707\n",
      "0.800909090909\n",
      "0.801111111111\n",
      "0.801313131313\n",
      "0.801515151515\n",
      "0.801717171717\n",
      "0.801919191919\n",
      "0.802121212121\n",
      "0.802323232323\n",
      "0.802525252525\n",
      "0.802727272727\n",
      "0.802929292929\n",
      "0.803131313131\n",
      "0.803333333333\n",
      "0.803535353535\n",
      "0.803737373737\n",
      "0.803939393939\n",
      "0.804141414141\n",
      "0.804343434343\n",
      "0.804545454545\n",
      "0.804747474747\n",
      "0.804949494949\n",
      "0.805151515152\n",
      "0.805353535354\n",
      "0.805555555556\n",
      "0.805757575758\n",
      "0.80595959596\n",
      "0.806161616162\n",
      "0.806363636364\n",
      "0.806565656566\n",
      "0.806767676768\n",
      "0.80696969697\n",
      "0.807171717172\n",
      "0.807373737374\n",
      "0.807575757576\n",
      "0.807777777778\n",
      "0.80797979798\n",
      "0.808181818182\n",
      "0.808383838384\n",
      "0.808585858586\n",
      "0.808787878788\n",
      "0.80898989899\n",
      "0.809191919192\n",
      "0.809393939394\n",
      "0.809595959596\n",
      "0.809797979798\n",
      "0.81\n"
     ]
    }
   ],
   "source": [
    "for i in rango:\n",
    "    print (i)"
   ]
  },
  {
   "cell_type": "code",
   "execution_count": 16,
   "metadata": {
    "collapsed": false
   },
   "outputs": [
    {
     "data": {
      "text/plain": [
       "101"
      ]
     },
     "execution_count": 16,
     "metadata": {},
     "output_type": "execute_result"
    }
   ],
   "source": [
    "len(history)"
   ]
  },
  {
   "cell_type": "code",
   "execution_count": 15,
   "metadata": {
    "collapsed": false
   },
   "outputs": [
    {
     "name": "stdout",
     "output_type": "stream",
     "text": [
      "$\\pi$\n"
     ]
    }
   ],
   "source": [
    "print(r'$\\pi$')"
   ]
  },
  {
   "cell_type": "code",
   "execution_count": 34,
   "metadata": {
    "collapsed": false
   },
   "outputs": [
    {
     "data": {
      "text/plain": [
       "array([[ 0.26341276,  0.03185875],\n",
       "       [-0.41404501,  0.93160071],\n",
       "       [-0.061328  ,  0.05204311],\n",
       "       [ 2.04541394, -1.44592816],\n",
       "       [-0.20208475, -0.08390187],\n",
       "       [-1.63136893,  0.51432746]])"
      ]
     },
     "execution_count": 34,
     "metadata": {},
     "output_type": "execute_result"
    }
   ],
   "source": [
    "Y"
   ]
  },
  {
   "cell_type": "code",
   "execution_count": 36,
   "metadata": {
    "collapsed": false
   },
   "outputs": [
    {
     "data": {
      "text/plain": [
       "array([[ 0.24250109, -0.06077188],\n",
       "       [ 0.93240737,  0.86473146],\n",
       "       [-0.24250109,  0.06077188],\n",
       "       [ 0.93240737,  0.86473146],\n",
       "       [ 0.        ,  0.        ],\n",
       "       [-1.86481474, -1.72946292]])"
      ]
     },
     "execution_count": 36,
     "metadata": {},
     "output_type": "execute_result"
    }
   ],
   "source": [
    "Y"
   ]
  },
  {
   "cell_type": "code",
   "execution_count": null,
   "metadata": {
    "collapsed": true
   },
   "outputs": [],
   "source": []
  }
 ],
 "metadata": {
  "kernelspec": {
   "display_name": "Python 3",
   "language": "python",
   "name": "python3"
  },
  "language_info": {
   "codemirror_mode": {
    "name": "ipython",
    "version": 3
   },
   "file_extension": ".py",
   "mimetype": "text/x-python",
   "name": "python",
   "nbconvert_exporter": "python",
   "pygments_lexer": "ipython3",
   "version": "3.4.0"
  }
 },
 "nbformat": 4,
 "nbformat_minor": 0
}
