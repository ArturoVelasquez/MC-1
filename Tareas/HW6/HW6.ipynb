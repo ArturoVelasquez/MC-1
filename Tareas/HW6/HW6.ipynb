{
 "cells": [
  {
   "cell_type": "code",
   "execution_count": 1,
   "metadata": {
    "collapsed": true
   },
   "outputs": [],
   "source": [
    "#Importación de paquetes a utilizar\n",
    "import numpy as np\n",
    "import matplotlib.pyplot as plt\n",
    "%matplotlib inline\n",
    "import sympy as sp\n",
    "sp.init_printing(use_unicode = True)"
   ]
  },
  {
   "cell_type": "markdown",
   "metadata": {
    "collapsed": true
   },
   "source": [
    "#Primer punto"
   ]
  },
  {
   "cell_type": "code",
   "execution_count": 2,
   "metadata": {
    "collapsed": false
   },
   "outputs": [],
   "source": [
    "#Definimos la función lagrange, pesando en el siguiente punto lo adaptamos para que retorne la función\n",
    "#con los reemplazos propios del método de adams\n",
    "def lagrange(N,adams=False,**args):\n",
    "    total = 0\n",
    "    t = sp.var('t')\n",
    "    if (adams):\n",
    "        h = sp.var('h')\n",
    "    for i in range(0,N,1):\n",
    "        ts = 1\n",
    "        for j in range(0,N,1):\n",
    "            if (i != j):\n",
    "                tj = sp.var('t%d'%j)\n",
    "                if (adams and i != 0):\n",
    "                    ti = sp.var('t0') - i*h\n",
    "                else:\n",
    "                    ti = sp.var('t%d'%i)\n",
    "                if (adams and j != 0):\n",
    "                    tj = sp.var('t0') - j*h\n",
    "                else:\n",
    "                    tj = sp.var('t%d'%j)\n",
    "                ts *= ((t - tj)/(ti - tj))\n",
    "        f = sp.var('f%d'%i)\n",
    "        total += f*ts\n",
    "    return (total)"
   ]
  },
  {
   "cell_type": "code",
   "execution_count": 3,
   "metadata": {
    "collapsed": false
   },
   "outputs": [
    {
     "data": {
      "image/png": "[encoded data removed]",
      "text/latex": [
       "$$f_{0}$$"
      ],
      "text/plain": [
       "f₀"
      ]
     },
     "execution_count": 3,
     "metadata": {},
     "output_type": "execute_result"
    }
   ],
   "source": [
    "lagrange(1)"
   ]
  },
  {
   "cell_type": "code",
   "execution_count": 4,
   "metadata": {
    "collapsed": false
   },
   "outputs": [
    {
     "data": {
      "image/png": "[encoded data removed]",
      "text/latex": [
       "$$\\frac{f_{0} \\left(t - t_{1}\\right)}{t_{0} - t_{1}} + \\frac{f_{1} \\left(t - t_{0}\\right)}{- t_{0} + t_{1}}$$"
      ],
      "text/plain": [
       "f₀⋅(t - t₁)   f₁⋅(t - t₀)\n",
       "─────────── + ───────────\n",
       "  t₀ - t₁       -t₀ + t₁ "
      ]
     },
     "execution_count": 4,
     "metadata": {},
     "output_type": "execute_result"
    }
   ],
   "source": [
    "lagrange(2)"
   ]
  },
  {
   "cell_type": "code",
   "execution_count": 5,
   "metadata": {
    "collapsed": false
   },
   "outputs": [
    {
     "data": {
      "image/png": "[encoded data removed]",
      "text/latex": [
       "$$\\frac{f_{0} \\left(t - t_{1}\\right) \\left(t - t_{2}\\right)}{\\left(t_{0} - t_{1}\\right) \\left(t_{0} - t_{2}\\right)} + \\frac{f_{1} \\left(t - t_{0}\\right) \\left(t - t_{2}\\right)}{\\left(- t_{0} + t_{1}\\right) \\left(t_{1} - t_{2}\\right)} + \\frac{f_{2} \\left(t - t_{0}\\right) \\left(t - t_{1}\\right)}{\\left(- t_{0} + t_{2}\\right) \\left(- t_{1} + t_{2}\\right)}$$"
      ],
      "text/plain": [
       "f₀⋅(t - t₁)⋅(t - t₂)   f₁⋅(t - t₀)⋅(t - t₂)    f₂⋅(t - t₀)⋅(t - t₁)\n",
       "──────────────────── + ──────────────────── + ─────────────────────\n",
       "(t₀ - t₁)⋅(t₀ - t₂)    (-t₀ + t₁)⋅(t₁ - t₂)   (-t₀ + t₂)⋅(-t₁ + t₂)"
      ]
     },
     "execution_count": 5,
     "metadata": {},
     "output_type": "execute_result"
    }
   ],
   "source": [
    "lagrange(3)"
   ]
  },
  {
   "cell_type": "code",
   "execution_count": 6,
   "metadata": {
    "collapsed": false
   },
   "outputs": [],
   "source": [
    "def adams(N):\n",
    "    return (sp.simplify(sp.integrate(lagrange(N,adams=True),(t,t0,t0+h))))"
   ]
  },
  {
   "cell_type": "code",
   "execution_count": 7,
   "metadata": {
    "collapsed": false
   },
   "outputs": [
    {
     "data": {
      "image/png": "[encoded data removed]",
      "text/latex": [
       "$$\\frac{h}{2} \\left(3 f_{0} - f_{1}\\right)$$"
      ],
      "text/plain": [
       "h⋅(3⋅f₀ - f₁)\n",
       "─────────────\n",
       "      2      "
      ]
     },
     "execution_count": 7,
     "metadata": {},
     "output_type": "execute_result"
    }
   ],
   "source": [
    "adams(2)"
   ]
  },
  {
   "cell_type": "code",
   "execution_count": 8,
   "metadata": {
    "collapsed": false
   },
   "outputs": [
    {
     "data": {
      "image/png": "[encoded data removed]",
      "text/latex": [
       "$$\\frac{h}{12} \\left(23 f_{0} - 16 f_{1} + 5 f_{2}\\right)$$"
      ],
      "text/plain": [
       "h⋅(23⋅f₀ - 16⋅f₁ + 5⋅f₂)\n",
       "────────────────────────\n",
       "           12           "
      ]
     },
     "execution_count": 8,
     "metadata": {},
     "output_type": "execute_result"
    }
   ],
   "source": [
    "adams(3)"
   ]
  },
  {
   "cell_type": "code",
   "execution_count": 9,
   "metadata": {
    "collapsed": false
   },
   "outputs": [
    {
     "data": {
      "image/png": "[encoded data removed]",
      "text/latex": [
       "$$\\frac{h}{24} \\left(55 f_{0} - 59 f_{1} + 37 f_{2} - 9 f_{3}\\right)$$"
      ],
      "text/plain": [
       "h⋅(55⋅f₀ - 59⋅f₁ + 37⋅f₂ - 9⋅f₃)\n",
       "────────────────────────────────\n",
       "               24               "
      ]
     },
     "execution_count": 9,
     "metadata": {},
     "output_type": "execute_result"
    }
   ],
   "source": [
    "adams(4)"
   ]
  },
  {
   "cell_type": "code",
   "execution_count": 10,
   "metadata": {
    "collapsed": false
   },
   "outputs": [
    {
     "data": {
      "image/png": "[encoded data removed]",
      "text/latex": [
       "$$\\frac{h}{720} \\left(1901 f_{0} - 2774 f_{1} + 2616 f_{2} - 1274 f_{3} + 251 f_{4}\\right)$$"
      ],
      "text/plain": [
       "h⋅(1901⋅f₀ - 2774⋅f₁ + 2616⋅f₂ - 1274⋅f₃ + 251⋅f₄)\n",
       "──────────────────────────────────────────────────\n",
       "                       720                        "
      ]
     },
     "execution_count": 10,
     "metadata": {},
     "output_type": "execute_result"
    }
   ],
   "source": [
    "adams(5)"
   ]
  },
  {
   "cell_type": "markdown",
   "metadata": {},
   "source": [
    "#Segundo punto"
   ]
  },
  {
   "cell_type": "code",
   "execution_count": null,
   "metadata": {
    "collapsed": true
   },
   "outputs": [],
   "source": []
  }
 ],
 "metadata": {
  "kernelspec": {
   "display_name": "Python 3",
   "language": "python",
   "name": "python3"
  },
  "language_info": {
   "codemirror_mode": {
    "name": "ipython",
    "version": 3
   },
   "file_extension": ".py",
   "mimetype": "text/x-python",
   "name": "python",
   "nbconvert_exporter": "python",
   "pygments_lexer": "ipython3",
   "version": "3.4.0"
  }
 },
 "nbformat": 4,
 "nbformat_minor": 0
}
