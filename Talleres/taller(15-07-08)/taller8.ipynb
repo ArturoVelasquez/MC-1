{
 "cells": [
  {
   "cell_type": "code",
   "execution_count": 1,
   "metadata": {
    "collapsed": false
   },
   "outputs": [],
   "source": [
    "#Importación de paquetes\n",
    "import numpy as np\n",
    "%matplotlib inline\n",
    "import matplotlib.pyplot as plt\n",
    "import os"
   ]
  },
  {
   "cell_type": "code",
   "execution_count": 7,
   "metadata": {
    "collapsed": false
   },
   "outputs": [],
   "source": [
    "Nt=2000\n",
    "Nl=50\n",
    "L=10. # Lado del cubo\n",
    "tmin=0\n",
    "tmax=.3\n",
    "xmin=-L/2\n",
    "xmax=L/2\n",
    "ymin=-L/2\n",
    "ymax=L/2\n",
    "dt=(tmax-tmin)/Nt\n",
    "dx=(xmax-xmin)/Nl\n",
    "v=425. # m/s\n",
    "r=v*dt/dx\n",
    "xcoords=np.linspace(xmin,xmax,Nl)\n",
    "ycoords=np.linspace(xmin,xmax,Nl)\n",
    "xmesh,ymesh=np.meshgrid(xcoords,ycoords)\n",
    "\n",
    "#ψ(x,y,0) = np.exp(-xmesh**2)*np.exp(-ymesh**2)"
   ]
  },
  {
   "cell_type": "code",
   "execution_count": 5,
   "metadata": {
    "collapsed": false
   },
   "outputs": [
    {
     "data": {
      "text/plain": [
       "1"
      ]
     },
     "execution_count": 5,
     "metadata": {},
     "output_type": "execute_result"
    }
   ],
   "source": [
    "a[1]"
   ]
  },
  {
   "cell_type": "code",
   "execution_count": 7,
   "metadata": {
    "collapsed": false
   },
   "outputs": [
    {
     "name": "stdout",
     "output_type": "stream",
     "text": [
      "0\n",
      "1\n",
      "2\n",
      "3\n",
      "4\n",
      "5\n",
      "6\n",
      "7\n",
      "8\n",
      "9\n"
     ]
    }
   ],
   "source": [
    "for i in a:\n",
    "    print (i)"
   ]
  },
  {
   "cell_type": "code",
   "execution_count": null,
   "metadata": {
    "collapsed": true
   },
   "outputs": [],
   "source": []
  }
 ],
 "metadata": {
  "kernelspec": {
   "display_name": "Python 3",
   "language": "python",
   "name": "python3"
  },
  "language_info": {
   "codemirror_mode": {
    "name": "ipython",
    "version": 3
   },
   "file_extension": ".py",
   "mimetype": "text/x-python",
   "name": "python",
   "nbconvert_exporter": "python",
   "pygments_lexer": "ipython3",
   "version": "3.4.0"
  }
 },
 "nbformat": 4,
 "nbformat_minor": 0
}
