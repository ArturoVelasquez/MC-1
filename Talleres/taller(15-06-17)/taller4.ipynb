{
 "cells": [
  {
   "cell_type": "code",
   "execution_count": 32,
   "metadata": {
    "collapsed": false
   },
   "outputs": [],
   "source": [
    "import numpy as np\n",
    "import matplotlib.pyplot as plt\n",
    "from scipy import interpolate\n",
    "import os"
   ]
  },
  {
   "cell_type": "markdown",
   "metadata": {},
   "source": [
    "1. Del segundo capítulo del [libro de Scherer](http://link.springer.com.ezproxy.uniandes.edu.co:8080/book/10.1007\\%2F978-3-642-13990-1) resuelva los literales c y d del problema 2.1."
   ]
  },
  {
   "cell_type": "markdown",
   "metadata": {},
   "source": [
    "(c) Interpolate the function $f (x) = sin(x)$ at the points $x = 0, \\frac{\\pi}{2}, \\pi, \\frac{3\\pi}{2}, 2\\pi$. Take\n",
    "more sample points and check if the quality of the fit is improved."
   ]
  },
  {
   "cell_type": "code",
   "execution_count": 33,
   "metadata": {
    "collapsed": true
   },
   "outputs": [],
   "source": [
    "# Ejemplo de una función que entrega de regreso una función\n",
    "def lagrangep(absc,j):\n",
    "    pol=np.poly1d([0,1])\n",
    "    k=len(absc)\n",
    "    for m in range(k):\n",
    "        if m!=j:\n",
    "            pol*=1./(absc[j]-absc[m])*np.poly1d([1.,-absc[m]])\n",
    "    return pol \n",
    "\n",
    "def interlagr(absc,orde):\n",
    "    poly=np.poly1d([0])\n",
    "    for i in range(len(absc)):\n",
    "        poly+=orde[i]*lagrangep(absc,i)\n",
    "    return poly"
   ]
  },
  {
   "cell_type": "code",
   "execution_count": 34,
   "metadata": {
    "collapsed": true
   },
   "outputs": [],
   "source": [
    "def interpolacion_seno(numPuntos=4,**kawrgs):\n",
    "    #Datos iniciales e interpolación\n",
    "    x = np.linspace(0,2*np.pi,numPuntos)\n",
    "    y = np.sin(x)\n",
    "    xpol = np.linspace(0,2*np.pi,1000)\n",
    "    pol = interlagr(x,y)\n",
    "    #Gráfica\n",
    "    plt.plot(x,y,color='red',label='Datos',linestyle='--')\n",
    "    plt.plot(xpol,pol(xpol),color='blue',label='Interpolación')\n",
    "    plt.legend()\n",
    "    plt.xlim(-0.3,np.pi*2+0.3)\n",
    "    plt.ylim(-1.5,1.5)\n",
    "    plt.text(4,0.7,\"Número de puntos\\niniciales: %d\"%numPuntos)\n",
    "    plt.show()"
   ]
  },
  {
   "cell_type": "code",
   "execution_count": 35,
   "metadata": {
    "collapsed": false
   },
   "outputs": [],
   "source": [
    "interpolacion_seno(numPuntos=7)"
   ]
  },
  {
   "cell_type": "markdown",
   "metadata": {},
   "source": [
    "Investigate the oscillatory behavior for a discontinuous pulse or step function as\n",
    "given by the following data table"
   ]
  },
  {
   "cell_type": "code",
   "execution_count": 36,
   "metadata": {
    "collapsed": true
   },
   "outputs": [],
   "source": [
    "x = np.array([-3,-2,-1,0,1,2,3])\n",
    "xpol = np.linspace(-3,3,1000)\n",
    "ypulse = np.array([0,0,0,1,0,0,0])\n",
    "ystep = np.array([0,0,0,1,1,1,1])"
   ]
  },
  {
   "cell_type": "code",
   "execution_count": 37,
   "metadata": {
    "collapsed": false
   },
   "outputs": [],
   "source": [
    "#Lineales\n",
    "linearpulse = interpolate.interp1d(x,ypulse,kind='linear')\n",
    "linearstep = interpolate.interp1d(x,ystep,kind='linear')\n",
    "#Cúbicas\n",
    "cubicpulse = interpolate.interp1d(x,ypulse,kind='cubic')\n",
    "cubicstep = interpolate.interp1d(x,ystep,kind='cubic')\n",
    "#Polinomial\n",
    "polpulse = interlagr(x,ypulse)\n",
    "polstep = interlagr(x,ystep)"
   ]
  },
  {
   "cell_type": "code",
   "execution_count": 38,
   "metadata": {
    "collapsed": false
   },
   "outputs": [],
   "source": [
    "plt.figure(figsize=(8, 8))\n",
    "plt.subplots_adjust(hspace=0.3, wspace=0.00)\n",
    "#Pulse\n",
    "plt.subplot(2,1,1)\n",
    "plt.plot(x,ypulse,color='red',label='Datos',linestyle='--')\n",
    "plt.plot(xpol,linearpulse(xpol),color='blue',label='Linear')\n",
    "plt.plot(xpol,cubicpulse(xpol),color='green',label='Cubic')\n",
    "plt.plot(xpol,polpulse(xpol),color='black',label='Poli')\n",
    "plt.legend(loc=8)\n",
    "plt.title(\"Pulse\")\n",
    "#Step\n",
    "plt.subplot(2,1,2)\n",
    "plt.plot(x,ystep,color='red',label='Datos',linestyle='--')\n",
    "plt.plot(xpol,linearstep(xpol),color='blue',label='Linear')\n",
    "plt.plot(xpol,cubicstep(xpol),color='green',label='Cubic')\n",
    "plt.plot(xpol,polstep(xpol),color='black',label='Poli')\n",
    "plt.legend(loc=4)\n",
    "plt.title(\"Step\")\n",
    "\n",
    "plt.show()"
   ]
  },
  {
   "cell_type": "markdown",
   "metadata": {},
   "source": [
    "3. La implementación de cierto algoritmo necesita puntos uniformemente muestreados pero los datos que se tienen son los mostrados en la tabla de abajo. Produzca una nueva tabla con el mismo número de líneas pero con muestreo uniforme usando un *cubic spline* ."
   ]
  },
  {
   "cell_type": "code",
   "execution_count": null,
   "metadata": {
    "collapsed": true
   },
   "outputs": [],
   "source": [
    "#Descargo los datos y los formateo a un .csv\n",
    "os.system(\"curl -s https://raw.githubusercontent.com/ComputoCienciasUniandes/MetodosComputacionalesLaboratorio/master/2015-V/actividades/talleres/Taller4/Taller4.md > datos3.txt\")\n",
    "os.system(\"sed -i '1,/3\\.\\ La/d' datos3.txt\")\n",
    "os.system(\"sed -i '/Al\\ terminar\\ la/,$d' datos3.txt\")\n",
    "os.system(\"sed -i 's/^\\s//g' datos3.txt\")\n",
    "os.system(\"sed -i '/^ *$/d' datos3.txt\")\n",
    "os.system(\"sed -i 's/^|//g' datos3.txt\")\n",
    "os.system(\"sed -i 's/|$//g' datos3.txt\")\n",
    "os.system(\"sed -i 's/|/,/g' datos3.txt\")\n",
    "os.system(\"sed -i '/--/d' datos3.txt\")\n",
    "os.system(\"sed -i 's/\\s//g' datos3.txt\")\n",
    "os.system(\"mv datos3.txt datos3.csv\")"
   ]
  },
  {
   "cell_type": "code",
   "execution_count": 44,
   "metadata": {
    "collapsed": false,
    "scrolled": true
   },
   "outputs": [],
   "source": [
    "datos3 = np.genfromtxt(\"datos3.csv\",delimiter=\",\",names=True)"
   ]
  },
  {
   "cell_type": "code",
   "execution_count": 41,
   "metadata": {
    "collapsed": true
   },
   "outputs": [],
   "source": [
    "xespaciado = np.linspace(datos3[\"x\"][0],datos3[\"x\"][len(datos3[\"x\"])-1],len(datos3[\"x\"]))"
   ]
  },
  {
   "cell_type": "code",
   "execution_count": 42,
   "metadata": {
    "collapsed": false,
    "scrolled": false
   },
   "outputs": [
    {
     "data": {
      "text/plain": [
       "array([ 0.13849067,  0.32622665,  0.51396263,  0.7016986 ,  0.88943458,\n",
       "        1.07717056,  1.26490654,  1.45264252,  1.64037849,  1.82811447,\n",
       "        2.01585045,  2.20358643,  2.39132241,  2.57905838,  2.76679436,\n",
       "        2.95453034,  3.14226632,  3.3300023 ,  3.51773827,  3.70547425,\n",
       "        3.89321023,  4.08094621,  4.26868219,  4.45641816])"
      ]
     },
     "execution_count": 42,
     "metadata": {},
     "output_type": "execute_result"
    }
   ],
   "source": [
    "xespaciado"
   ]
  },
  {
   "cell_type": "code",
   "execution_count": null,
   "metadata": {
    "collapsed": true
   },
   "outputs": [],
   "source": []
  }
 ],
 "metadata": {
  "kernelspec": {
   "display_name": "Python 3",
   "language": "python",
   "name": "python3"
  },
  "language_info": {
   "codemirror_mode": {
    "name": "ipython",
    "version": 3
   },
   "file_extension": ".py",
   "mimetype": "text/x-python",
   "name": "python",
   "nbconvert_exporter": "python",
   "pygments_lexer": "ipython3",
   "version": "3.4.0"
  }
 },
 "nbformat": 4,
 "nbformat_minor": 0
}
