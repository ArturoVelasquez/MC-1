{
 "cells": [
  {
   "cell_type": "code",
   "execution_count": 40,
   "metadata": {
    "collapsed": false
   },
   "outputs": [],
   "source": [
    "import numpy as np\n",
    "import matplotlib.pyplot as plt\n",
    "from scipy import interpolate\n",
    "from scipy.optimize import curve_fit"
   ]
  },
  {
   "cell_type": "code",
   "execution_count": 41,
   "metadata": {
    "collapsed": false,
    "scrolled": true
   },
   "outputs": [],
   "source": [
    "#Primer punto\n",
    "datos = np.genfromtxt('polyunkown.csv',delimiter=',')"
   ]
  },
  {
   "cell_type": "code",
   "execution_count": 42,
   "metadata": {
    "collapsed": true
   },
   "outputs": [],
   "source": [
    "x = datos[:,0]\n",
    "y = datos[:,1]"
   ]
  },
  {
   "cell_type": "code",
   "execution_count": 43,
   "metadata": {
    "collapsed": true
   },
   "outputs": [],
   "source": [
    "def regresion(x,coeficientes):\n",
    "    grado = len(coeficientes)-1\n",
    "    y = np.zeros(len(x))\n",
    "    for i in range (0,len(coeficientes),1):\n",
    "        a = np.array(x**(grado-i))*coeficientes[i]\n",
    "        y+=a\n",
    "    return y"
   ]
  },
  {
   "cell_type": "code",
   "execution_count": 44,
   "metadata": {
    "collapsed": true
   },
   "outputs": [],
   "source": [
    "def R2(xexp, xteo):\n",
    "    EE = sum((xteo-xexp)**2)\n",
    "    mean = sum(xexp)/(len(xexp))\n",
    "    variance = sum((mean-xexp)**2)\n",
    "    R2 = 1 - EE/variance\n",
    "    return R2"
   ]
  },
  {
   "cell_type": "code",
   "execution_count": 62,
   "metadata": {
    "collapsed": true
   },
   "outputs": [],
   "source": [
    "def grafica(grado,r2):\n",
    "    plt.scatter(x,y,color='red', label='real')\n",
    "    plt.plot(x,regresion(x,fit),color='blue', label='fit')\n",
    "    plt.legend()\n",
    "    plt.title(\"Ajuste con polinomio de grado: %d\"%grado)\n",
    "    plt.text(-5.5,1.8e+09,\"Coeficiente de correlacion: %.20f\"%r2)\n",
    "    plt.show()"
   ]
  },
  {
   "cell_type": "code",
   "execution_count": 63,
   "metadata": {
    "collapsed": false
   },
   "outputs": [
    {
     "name": "stdout",
     "output_type": "stream",
     "text": [
      "Los datos se ajustan a un polinomio de grado: 13\n"
     ]
    }
   ],
   "source": [
    "for i in range(1,len(x )):\n",
    "    fit = np.polyfit(x,y,i)\n",
    "    #r_actual=R2(y,regresion(x,fit))\n",
    "    r_actual=np.mean(np.corrcoef(y,regresion(x,fit)))\n",
    "    grafica(i,r_actual)\n",
    "    if (r_actual == 1):\n",
    "        print \"Los datos se ajustan a un polinomio de grado: %d\"%i\n",
    "        break"
   ]
  },
  {
   "cell_type": "code",
   "execution_count": null,
   "metadata": {
    "collapsed": true
   },
   "outputs": [],
   "source": []
  }
 ],
 "metadata": {
  "kernelspec": {
   "display_name": "Python 2",
   "language": "python",
   "name": "python2"
  },
  "language_info": {
   "codemirror_mode": {
    "name": "ipython",
    "version": 2
   },
   "file_extension": ".py",
   "mimetype": "text/x-python",
   "name": "python",
   "nbconvert_exporter": "python",
   "pygments_lexer": "ipython2",
   "version": "2.7.6"
  }
 },
 "nbformat": 4,
 "nbformat_minor": 0
}
