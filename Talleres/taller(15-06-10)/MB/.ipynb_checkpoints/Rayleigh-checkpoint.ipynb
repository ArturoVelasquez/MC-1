{
 "metadata": {
  "name": "",
  "signature": "sha256:9bf900224a863c22d8b18976de45cd5185d5c8196725fe55ebb6e6eccf665fc7"
 },
 "nbformat": 3,
 "nbformat_minor": 0,
 "worksheets": [
  {
   "cells": [
    {
     "cell_type": "code",
     "collapsed": false,
     "input": [
      "import numpy as np\n",
      "import matplotlib.pyplot as plt"
     ],
     "language": "python",
     "metadata": {},
     "outputs": [],
     "prompt_number": 2
    },
    {
     "cell_type": "code",
     "collapsed": false,
     "input": [
      "datos=np.genfromtxt('Rayleigh.csv',delimiter=\",\",names=True)"
     ],
     "language": "python",
     "metadata": {},
     "outputs": [],
     "prompt_number": 3
    },
    {
     "cell_type": "code",
     "collapsed": false,
     "input": [
      "print type(datos)"
     ],
     "language": "python",
     "metadata": {},
     "outputs": [
      {
       "output_type": "stream",
       "stream": "stdout",
       "text": [
        "<type 'numpy.ndarray'>\n"
       ]
      }
     ],
     "prompt_number": 9
    },
    {
     "cell_type": "code",
     "collapsed": false,
     "input": [
      "print datos['x']\n",
      "print datos['y']\n",
      "print datos['vx']\n",
      "print datos['vy']"
     ],
     "language": "python",
     "metadata": {},
     "outputs": [
      {
       "output_type": "stream",
       "stream": "stdout",
       "text": [
        "[-35.601966 -33.776224 -31.950483 ...,  34.200534  33.77183  -36.085946]\n",
        "[-35.601966 -35.601966 -35.601966 ...,  35.281403 -36.144943  34.649831]\n",
        "[-0.516736 -1.458269 -0.567062 ...,  0.612699 -1.335435 -0.874573]\n",
        "[-1.319366 -0.22155  -1.301344 ..., -0.373448 -0.491006  0.568588]\n"
       ]
      }
     ],
     "prompt_number": 14
    },
    {
     "cell_type": "code",
     "collapsed": false,
     "input": [
      "##\n",
      "##\n",
      "##\n",
      "##\n",
      "##\n",
      "##\n",
      "##\n",
      "##\n",
      "##"
     ],
     "language": "python",
     "metadata": {},
     "outputs": []
    }
   ],
   "metadata": {}
  }
 ]
}